{
 "cells": [
  {
   "cell_type": "code",
   "execution_count": 1,
   "metadata": {},
   "outputs": [],
   "source": [
    "# Importing libraries\n",
    "import pandas as pd\n",
    "from pathlib import Path\n",
    "import csv\n",
    "from config import api_key\n",
    "import requests\n",
    "from pprint import pprint\n",
    "import random\n"
   ]
  },
  {
   "cell_type": "code",
   "execution_count": 2,
   "metadata": {},
   "outputs": [
    {
     "data": {
      "text/html": [
       "<div>\n",
       "<style scoped>\n",
       "    .dataframe tbody tr th:only-of-type {\n",
       "        vertical-align: middle;\n",
       "    }\n",
       "\n",
       "    .dataframe tbody tr th {\n",
       "        vertical-align: top;\n",
       "    }\n",
       "\n",
       "    .dataframe thead th {\n",
       "        text-align: right;\n",
       "    }\n",
       "</style>\n",
       "<table border=\"1\" class=\"dataframe\">\n",
       "  <thead>\n",
       "    <tr style=\"text-align: right;\">\n",
       "      <th></th>\n",
       "      <th>Country</th>\n",
       "      <th>City</th>\n",
       "      <th>AQI Value</th>\n",
       "      <th>AQI Category</th>\n",
       "      <th>CO AQI Value</th>\n",
       "      <th>CO AQI Category</th>\n",
       "      <th>Ozone AQI Value</th>\n",
       "      <th>Ozone AQI Category</th>\n",
       "      <th>NO2 AQI Value</th>\n",
       "      <th>NO2 AQI Category</th>\n",
       "      <th>PM2.5 AQI Value</th>\n",
       "      <th>PM2.5 AQI Category</th>\n",
       "    </tr>\n",
       "  </thead>\n",
       "  <tbody>\n",
       "    <tr>\n",
       "      <th>0</th>\n",
       "      <td>Russian Federation</td>\n",
       "      <td>Praskoveya</td>\n",
       "      <td>51</td>\n",
       "      <td>Moderate</td>\n",
       "      <td>1</td>\n",
       "      <td>Good</td>\n",
       "      <td>36</td>\n",
       "      <td>Good</td>\n",
       "      <td>0</td>\n",
       "      <td>Good</td>\n",
       "      <td>51</td>\n",
       "      <td>Moderate</td>\n",
       "    </tr>\n",
       "    <tr>\n",
       "      <th>1</th>\n",
       "      <td>Brazil</td>\n",
       "      <td>Presidente Dutra</td>\n",
       "      <td>41</td>\n",
       "      <td>Good</td>\n",
       "      <td>1</td>\n",
       "      <td>Good</td>\n",
       "      <td>5</td>\n",
       "      <td>Good</td>\n",
       "      <td>1</td>\n",
       "      <td>Good</td>\n",
       "      <td>41</td>\n",
       "      <td>Good</td>\n",
       "    </tr>\n",
       "    <tr>\n",
       "      <th>2</th>\n",
       "      <td>Italy</td>\n",
       "      <td>Priolo Gargallo</td>\n",
       "      <td>66</td>\n",
       "      <td>Moderate</td>\n",
       "      <td>1</td>\n",
       "      <td>Good</td>\n",
       "      <td>39</td>\n",
       "      <td>Good</td>\n",
       "      <td>2</td>\n",
       "      <td>Good</td>\n",
       "      <td>66</td>\n",
       "      <td>Moderate</td>\n",
       "    </tr>\n",
       "    <tr>\n",
       "      <th>3</th>\n",
       "      <td>Poland</td>\n",
       "      <td>Przasnysz</td>\n",
       "      <td>34</td>\n",
       "      <td>Good</td>\n",
       "      <td>1</td>\n",
       "      <td>Good</td>\n",
       "      <td>34</td>\n",
       "      <td>Good</td>\n",
       "      <td>0</td>\n",
       "      <td>Good</td>\n",
       "      <td>20</td>\n",
       "      <td>Good</td>\n",
       "    </tr>\n",
       "    <tr>\n",
       "      <th>4</th>\n",
       "      <td>France</td>\n",
       "      <td>Punaauia</td>\n",
       "      <td>22</td>\n",
       "      <td>Good</td>\n",
       "      <td>0</td>\n",
       "      <td>Good</td>\n",
       "      <td>22</td>\n",
       "      <td>Good</td>\n",
       "      <td>0</td>\n",
       "      <td>Good</td>\n",
       "      <td>6</td>\n",
       "      <td>Good</td>\n",
       "    </tr>\n",
       "  </tbody>\n",
       "</table>\n",
       "</div>"
      ],
      "text/plain": [
       "              Country              City  AQI Value AQI Category  CO AQI Value  \\\n",
       "0  Russian Federation        Praskoveya         51     Moderate             1   \n",
       "1              Brazil  Presidente Dutra         41         Good             1   \n",
       "2               Italy   Priolo Gargallo         66     Moderate             1   \n",
       "3              Poland         Przasnysz         34         Good             1   \n",
       "4              France          Punaauia         22         Good             0   \n",
       "\n",
       "  CO AQI Category  Ozone AQI Value Ozone AQI Category  NO2 AQI Value  \\\n",
       "0            Good               36               Good              0   \n",
       "1            Good                5               Good              1   \n",
       "2            Good               39               Good              2   \n",
       "3            Good               34               Good              0   \n",
       "4            Good               22               Good              0   \n",
       "\n",
       "  NO2 AQI Category  PM2.5 AQI Value PM2.5 AQI Category  \n",
       "0             Good               51           Moderate  \n",
       "1             Good               41               Good  \n",
       "2             Good               66           Moderate  \n",
       "3             Good               20               Good  \n",
       "4             Good                6               Good  "
      ]
     },
     "execution_count": 2,
     "metadata": {},
     "output_type": "execute_result"
    }
   ],
   "source": [
    "csv_path = Path(\"../Resources/global air pollution dataset.csv\")\n",
    "global_df = pd.read_csv(csv_path)\n",
    "global_df.head()"
   ]
  },
  {
   "cell_type": "code",
   "execution_count": 3,
   "metadata": {},
   "outputs": [
    {
     "data": {
      "text/plain": [
       "Index(['Country', 'City', 'AQI Value', 'AQI Category', 'CO AQI Value',\n",
       "       'CO AQI Category', 'Ozone AQI Value', 'Ozone AQI Category',\n",
       "       'NO2 AQI Value', 'NO2 AQI Category', 'PM2.5 AQI Value',\n",
       "       'PM2.5 AQI Category'],\n",
       "      dtype='object')"
      ]
     },
     "execution_count": 3,
     "metadata": {},
     "output_type": "execute_result"
    }
   ],
   "source": [
    "global_df.columns"
   ]
  },
  {
   "cell_type": "code",
   "execution_count": 4,
   "metadata": {},
   "outputs": [
    {
     "data": {
      "text/plain": [
       "Country               3601\n",
       "City                  3601\n",
       "AQI Value             3601\n",
       "AQI Category          3601\n",
       "CO AQI Value          3601\n",
       "CO AQI Category       3601\n",
       "Ozone AQI Value       3601\n",
       "Ozone AQI Category    3601\n",
       "NO2 AQI Value         3601\n",
       "NO2 AQI Category      3601\n",
       "PM2.5 AQI Value       3601\n",
       "PM2.5 AQI Category    3601\n",
       "dtype: int64"
      ]
     },
     "execution_count": 4,
     "metadata": {},
     "output_type": "execute_result"
    }
   ],
   "source": [
    "NorthAmerica_df = global_df.loc[global_df['Country'].isin(['United States of America', 'Canada', 'Mexico'])]\n",
    "NorthAmerica_df.head()\n",
    "NorthAmerica_df.count()"
   ]
  },
  {
   "cell_type": "code",
   "execution_count": 5,
   "metadata": {},
   "outputs": [],
   "source": [
    "unique_cities = NorthAmerica_df[['Country', 'City']].drop_duplicates().reset_index(drop=True)\n",
    "cities_list = unique_cities['City']\n",
    "cities_list.to_csv('../Resources/cities_list.csv')\n",
    "unique_cities.to_csv('../Resources/citiesandcountry_list.csv')\n",
    "\n",
    "# Making a list of cities. This is the entire list of 3601 countries \n",
    "list_cities = cities_list.to_list()\n",
    "\n",
    "# Randomized list of 500 cities. This is probably better for plotting and to avoid hitting API limit\n",
    "random_cities = random.sample(list_cities,50) # change to 500 or any number you want\n",
    "\n",
    "# Shortened list of cities. Use this for testing code to avoid hitting API limit\n",
    "short_cities = cities_list.head(3).tolist()\n"
   ]
  },
  {
   "cell_type": "code",
   "execution_count": 6,
   "metadata": {},
   "outputs": [
    {
     "data": {
      "text/plain": [
       "['Trussville',\n",
       " 'Texcoco',\n",
       " 'Piedmont',\n",
       " 'Durango',\n",
       " 'Oconomowoc',\n",
       " 'Hidalgo',\n",
       " 'Tepatitlan',\n",
       " 'Garland',\n",
       " 'Beach Park',\n",
       " 'Belvidere',\n",
       " 'Saint Paul',\n",
       " 'Roy',\n",
       " 'Naranjos',\n",
       " 'Punta Gorda',\n",
       " 'Greensboro',\n",
       " 'Fuquay Varina',\n",
       " 'Belton',\n",
       " 'Mustang',\n",
       " 'Olive Branch',\n",
       " 'Cosamaloapan',\n",
       " 'Lake Elsinore',\n",
       " 'Schenectady',\n",
       " 'Holden',\n",
       " 'Ewing',\n",
       " 'Hayden',\n",
       " 'Hackensack',\n",
       " 'Rossville',\n",
       " 'Vega Baja',\n",
       " 'Naucalpan',\n",
       " 'Steger',\n",
       " 'South Daytona',\n",
       " 'Glen Rock',\n",
       " 'Winfield',\n",
       " 'Corcoran',\n",
       " 'Xoxtla',\n",
       " 'North Las Vegas',\n",
       " 'Cleburne',\n",
       " 'San Anselmo',\n",
       " 'Norfolk',\n",
       " 'Jimenez',\n",
       " 'Apple Valley',\n",
       " 'Barrie',\n",
       " 'Alliston',\n",
       " 'Peoria',\n",
       " 'Charlotte',\n",
       " 'New Milford',\n",
       " 'Oakville',\n",
       " 'Millbury',\n",
       " 'Lyons',\n",
       " 'Tuxtla Gutierrez']"
      ]
     },
     "execution_count": 6,
     "metadata": {},
     "output_type": "execute_result"
    }
   ],
   "source": [
    "random_cities"
   ]
  },
  {
   "cell_type": "code",
   "execution_count": 7,
   "metadata": {},
   "outputs": [
    {
     "name": "stdout",
     "output_type": "stream",
     "text": [
      "city not found or 'coord'\n",
      "city not found or 'coord'\n",
      "city not found or 'coord'\n"
     ]
    }
   ],
   "source": [
    "# Acessing the open weather API to get lattitude and longitude values\n",
    "\n",
    "url = \"http://api.openweathermap.org/data/2.5/weather?\"\n",
    "units = \"metric\"\n",
    "\n",
    "# Build partial query URL\n",
    "query_url = f\"{url}appid={api_key}&units={units}&q=\"\n",
    "\n",
    "# Making API calls\n",
    "lat = []\n",
    "lon = []\n",
    "\n",
    "# loop through list of cities\n",
    "for city in random_cities:\n",
    "    #print (city)\n",
    "    \n",
    "    response = requests.get(query_url + city).json()\n",
    "    try:\n",
    "        #print (response)\n",
    "        lat.append(response['coord']['lat'])\n",
    "        lon.append(response['coord']['lon'])\n",
    "    except Exception as e:\n",
    "        print(f'city not found or {e}')\n",
    "        pass"
   ]
  },
  {
   "cell_type": "code",
   "execution_count": 8,
   "metadata": {},
   "outputs": [],
   "source": [
    "# Accessing the open weather API to get air pollution values\n",
    "\n",
    "air_url = 'http://api.openweathermap.org/data/2.5/air_pollution?' # current air pollution values\n",
    "\n",
    "coord = [] # latitude and longitude coordinates\n",
    "aqi = [] # air quality index\n",
    "co = [] # Concentration of CO (Carbon monoxide), μg/m3\n",
    "nh3 = [] # Concentration of NO (Nitrogen monoxide), μg/m3\n",
    "no = [] # Сoncentration of NO2 (Nitrogen dioxide), μg/m3\n",
    "no2 = [] # Сoncentration of O3 (Ozone), μg/m3\n",
    "o3 = [] # Сoncentration of SO2 (Sulphur dioxide), μg/m3\n",
    "pm10 = [] # Сoncentration of PM2.5 (Fine particles matter),\n",
    "pm2_5 = [] # Сoncentration of PM10 (Coarse particulate matter), μg/m3\n",
    "so2 = [] # Сoncentration of NH3 (Ammonia), μg/m3\n",
    "\n",
    "\n",
    "for lt,ln in zip(lat,lon):\n",
    "    response = requests.get(f'{air_url}lat={lt}&lon={ln}&appid={api_key}').json()\n",
    "    #pprint (response)\n",
    "    try:\n",
    "        coord.append(response['coord'])\n",
    "        aqi.append(response['list'][0]['main']['aqi'])\n",
    "        co.append(response['list'][0]['components']['co'])\n",
    "        nh3.append(response['list'][0]['components']['nh3'])\n",
    "        no.append(response['list'][0]['components']['no'])\n",
    "        no2.append(response['list'][0]['components']['no2'])\n",
    "        o3.append(response['list'][0]['components']['o3'])\n",
    "        pm10.append(response['list'][0]['components']['pm10'])\n",
    "        pm2_5.append(response['list'][0]['components']['pm2_5'])\n",
    "        so2.append(response['list'][0]['components']['so2'])\n",
    "    except Exception as e:\n",
    "        print (f'failed to get values for lat:{lt} and lon:{ln}. Error is: {e}')"
   ]
  },
  {
   "cell_type": "code",
   "execution_count": 9,
   "metadata": {},
   "outputs": [],
   "source": [
    "import matplotlib.pyplot as plt\n",
    "import seaborn as sns"
   ]
  },
  {
   "cell_type": "markdown",
   "metadata": {},
   "source": [
    "top 5 cities with the highest PM2.5 levels using Matplotlib - North America"
   ]
  },
  {
   "cell_type": "code",
   "execution_count": 26,
   "metadata": {},
   "outputs": [
    {
     "data": {
      "image/png": "[encoded data removed]",
      "text/plain": [
       "<Figure size 1000x600 with 1 Axes>"
      ]
     },
     "metadata": {},
     "output_type": "display_data"
    }
   ],
   "source": [
    "# Sort the data by PM2.5 levels and select the top 5 cities - Highest PM2.5 Level\n",
    "top_5_pm25 = NorthAmerica_df.sort_values(by='PM2.5 AQI Value', ascending=False).head()\n",
    "top_5_pm25\n",
    "# Plot a horizontal bar chart\n",
    "plt.figure(figsize=(10, 6))\n",
    "sns.barplot(x='PM2.5 AQI Value', y='City', data=top_5_pm25, palette='Blues_d')\n",
    "plt.title('Top 5 Cities with the highest PM2.5 Levels - North America')\n",
    "plt.xlabel('PM2.5 Levels')\n",
    "plt.ylabel('City')\n",
    "plt.show()\n"
   ]
  },
  {
   "cell_type": "code",
   "execution_count": 11,
   "metadata": {},
   "outputs": [
    {
     "data": {
      "text/html": [
       "<div>\n",
       "<style scoped>\n",
       "    .dataframe tbody tr th:only-of-type {\n",
       "        vertical-align: middle;\n",
       "    }\n",
       "\n",
       "    .dataframe tbody tr th {\n",
       "        vertical-align: top;\n",
       "    }\n",
       "\n",
       "    .dataframe thead th {\n",
       "        text-align: right;\n",
       "    }\n",
       "</style>\n",
       "<table border=\"1\" class=\"dataframe\">\n",
       "  <thead>\n",
       "    <tr style=\"text-align: right;\">\n",
       "      <th></th>\n",
       "      <th>Lat</th>\n",
       "      <th>Lon</th>\n",
       "      <th>AQI</th>\n",
       "      <th>CO</th>\n",
       "      <th>NH3</th>\n",
       "      <th>NO2</th>\n",
       "      <th>O3</th>\n",
       "      <th>PM10</th>\n",
       "      <th>PM2.5</th>\n",
       "      <th>SO2</th>\n",
       "    </tr>\n",
       "  </thead>\n",
       "  <tbody>\n",
       "    <tr>\n",
       "      <th>0</th>\n",
       "      <td>33.6198</td>\n",
       "      <td>-86.6089</td>\n",
       "      <td>2</td>\n",
       "      <td>230.31</td>\n",
       "      <td>2.47</td>\n",
       "      <td>4.07</td>\n",
       "      <td>80.82</td>\n",
       "      <td>2.16</td>\n",
       "      <td>1.33</td>\n",
       "      <td>1.01</td>\n",
       "    </tr>\n",
       "    <tr>\n",
       "      <th>1</th>\n",
       "      <td>19.5167</td>\n",
       "      <td>-98.8833</td>\n",
       "      <td>2</td>\n",
       "      <td>236.99</td>\n",
       "      <td>1.55</td>\n",
       "      <td>7.88</td>\n",
       "      <td>75.82</td>\n",
       "      <td>9.86</td>\n",
       "      <td>7.52</td>\n",
       "      <td>4.47</td>\n",
       "    </tr>\n",
       "    <tr>\n",
       "      <th>2</th>\n",
       "      <td>37.8244</td>\n",
       "      <td>-122.2316</td>\n",
       "      <td>2</td>\n",
       "      <td>223.64</td>\n",
       "      <td>0.34</td>\n",
       "      <td>4.97</td>\n",
       "      <td>82.25</td>\n",
       "      <td>3.33</td>\n",
       "      <td>1.63</td>\n",
       "      <td>1.40</td>\n",
       "    </tr>\n",
       "    <tr>\n",
       "      <th>3</th>\n",
       "      <td>24.8333</td>\n",
       "      <td>-104.8333</td>\n",
       "      <td>3</td>\n",
       "      <td>181.91</td>\n",
       "      <td>0.67</td>\n",
       "      <td>0.33</td>\n",
       "      <td>101.57</td>\n",
       "      <td>12.98</td>\n",
       "      <td>7.91</td>\n",
       "      <td>1.39</td>\n",
       "    </tr>\n",
       "    <tr>\n",
       "      <th>4</th>\n",
       "      <td>43.1117</td>\n",
       "      <td>-88.4993</td>\n",
       "      <td>1</td>\n",
       "      <td>267.03</td>\n",
       "      <td>1.85</td>\n",
       "      <td>8.91</td>\n",
       "      <td>53.64</td>\n",
       "      <td>3.39</td>\n",
       "      <td>2.77</td>\n",
       "      <td>0.45</td>\n",
       "    </tr>\n",
       "  </tbody>\n",
       "</table>\n",
       "</div>"
      ],
      "text/plain": [
       "       Lat       Lon  AQI      CO   NH3   NO2      O3   PM10  PM2.5   SO2\n",
       "0  33.6198  -86.6089    2  230.31  2.47  4.07   80.82   2.16   1.33  1.01\n",
       "1  19.5167  -98.8833    2  236.99  1.55  7.88   75.82   9.86   7.52  4.47\n",
       "2  37.8244 -122.2316    2  223.64  0.34  4.97   82.25   3.33   1.63  1.40\n",
       "3  24.8333 -104.8333    3  181.91  0.67  0.33  101.57  12.98   7.91  1.39\n",
       "4  43.1117  -88.4993    1  267.03  1.85  8.91   53.64   3.39   2.77  0.45"
      ]
     },
     "execution_count": 11,
     "metadata": {},
     "output_type": "execute_result"
    }
   ],
   "source": [
    "# Create a DataFrame\n",
    "map_data = pd.DataFrame({\n",
    "    'Lat': lat,\n",
    "    'Lon': lon,\n",
    "    'AQI': aqi,\n",
    "    'CO': co,\n",
    "    'NH3': nh3,\n",
    "    'NO2': no2,\n",
    "    'O3': o3,\n",
    "    'PM10': pm10,\n",
    "    'PM2.5': pm2_5,\n",
    "    'SO2': so2})\n",
    "\n",
    "\n",
    "\n",
    "map_data.head()"
   ]
  },
  {
   "cell_type": "code",
   "execution_count": 12,
   "metadata": {},
   "outputs": [
    {
     "name": "stdout",
     "output_type": "stream",
     "text": [
      "        Lat       Lon  AQI      CO   NH3    NO2      O3   PM10  PM2.5   SO2\n",
      "37  34.5008 -117.1859    4  253.68  0.44   3.00  175.95  36.71  28.12  3.16\n",
      "45  41.8134  -87.8181    3  634.19  5.19  74.03    0.11  15.70  10.85  3.67\n",
      "3   24.8333 -104.8333    3  181.91  0.67   0.33  101.57  12.98   7.91  1.39\n",
      "18  33.6681 -117.3273    3  240.33  0.47   5.27  108.72  12.15   8.14  2.21\n",
      "27  41.4700  -87.6364    3  614.17  3.23  81.57    2.62  23.39  12.16  3.70\n"
     ]
    }
   ],
   "source": [
    "# Sort the data by AQI in descending order to get the highest AQI values first\n",
    "top_5_cities = map_data.sort_values(by='AQI', ascending=False).head(5)\n",
    "\n",
    "# Display the top 5 cities with the highest AQI\n",
    "print(top_5_cities)\n"
   ]
  },
  {
   "cell_type": "code",
   "execution_count": 13,
   "metadata": {},
   "outputs": [
    {
     "name": "stdout",
     "output_type": "stream",
     "text": [
      "        Lat      Lon  AQI      CO   NH3    NO2     O3  PM10  PM2.5   SO2\n",
      "46  16.7500 -93.1167    1  243.66  0.44   2.42  45.42  4.04   3.81  0.47\n",
      "20  42.3518 -71.8634    1  230.31  0.28   4.93  56.51  0.91   0.50  0.04\n",
      "14  38.8120 -94.5319    1  303.75  1.38  20.91  55.79  4.80   4.05  6.97\n",
      "35  42.1668 -71.2495    1  313.76  0.98  17.65  38.62  4.65   2.23  0.24\n",
      "25  18.4444 -66.3877    1  213.62  0.00   0.26  36.48  1.08   0.50  0.18\n"
     ]
    }
   ],
   "source": [
    "# Sort the data by AQI in ascending order to get the lowest AQI values first\n",
    "bottom_5_cities = map_data.sort_values(by='AQI', ascending=True).head(5)\n",
    "\n",
    "# Display the top 5 cities with the lowest AQI\n",
    "print(bottom_5_cities)\n"
   ]
  },
  {
   "cell_type": "code",
   "execution_count": 14,
   "metadata": {},
   "outputs": [
    {
     "name": "stdout",
     "output_type": "stream",
     "text": [
      "Requirement already satisfied: opencage in /opt/anaconda3/lib/python3.11/site-packages (3.0.2)\n",
      "Requirement already satisfied: Requests>=2.31.0 in /opt/anaconda3/lib/python3.11/site-packages (from opencage) (2.31.0)\n",
      "Requirement already satisfied: backoff>=2.2.1 in /opt/anaconda3/lib/python3.11/site-packages (from opencage) (2.2.1)\n",
      "Requirement already satisfied: tqdm>=4.66.4 in /opt/anaconda3/lib/python3.11/site-packages (from opencage) (4.66.5)\n",
      "Requirement already satisfied: certifi>=2024.07.04 in /opt/anaconda3/lib/python3.11/site-packages (from opencage) (2024.8.30)\n",
      "Requirement already satisfied: aiohttp>=3.10.5 in /opt/anaconda3/lib/python3.11/site-packages (from opencage) (3.10.10)\n",
      "Requirement already satisfied: aiohappyeyeballs>=2.3.0 in /opt/anaconda3/lib/python3.11/site-packages (from aiohttp>=3.10.5->opencage) (2.4.3)\n",
      "Requirement already satisfied: aiosignal>=1.1.2 in /opt/anaconda3/lib/python3.11/site-packages (from aiohttp>=3.10.5->opencage) (1.2.0)\n",
      "Requirement already satisfied: attrs>=17.3.0 in /opt/anaconda3/lib/python3.11/site-packages (from aiohttp>=3.10.5->opencage) (24.2.0)\n",
      "Requirement already satisfied: frozenlist>=1.1.1 in /opt/anaconda3/lib/python3.11/site-packages (from aiohttp>=3.10.5->opencage) (1.4.0)\n",
      "Requirement already satisfied: multidict<7.0,>=4.5 in /opt/anaconda3/lib/python3.11/site-packages (from aiohttp>=3.10.5->opencage) (6.0.4)\n",
      "Requirement already satisfied: yarl<2.0,>=1.12.0 in /opt/anaconda3/lib/python3.11/site-packages (from aiohttp>=3.10.5->opencage) (1.15.4)\n",
      "Requirement already satisfied: charset-normalizer<4,>=2 in /opt/anaconda3/lib/python3.11/site-packages (from Requests>=2.31.0->opencage) (2.0.4)\n",
      "Requirement already satisfied: idna<4,>=2.5 in /opt/anaconda3/lib/python3.11/site-packages (from Requests>=2.31.0->opencage) (3.4)\n",
      "Requirement already satisfied: urllib3<3,>=1.21.1 in /opt/anaconda3/lib/python3.11/site-packages (from Requests>=2.31.0->opencage) (2.0.7)\n",
      "Requirement already satisfied: propcache>=0.2.0 in /opt/anaconda3/lib/python3.11/site-packages (from yarl<2.0,>=1.12.0->aiohttp>=3.10.5->opencage) (0.2.0)\n",
      "Note: you may need to restart the kernel to use updated packages.\n"
     ]
    }
   ],
   "source": [
    "pip install opencage\n"
   ]
  },
  {
   "cell_type": "code",
   "execution_count": 15,
   "metadata": {},
   "outputs": [],
   "source": [
    "from opencage.geocoder import OpenCageGeocode\n",
    "\n",
    "# Your OpenCage API key\n",
    "api_key = \"bb982ace21af4d06a54676ea96868918\"\n",
    "geocoder = OpenCageGeocode(api_key)\n",
    "\n",
    "def get_city(lat, lon):\n",
    "    try:\n",
    "        result = geocoder.reverse_geocode(lat, lon)\n",
    "        if result and len(result):\n",
    "            return result[0]['components'].get('city', '') or result[0]['components'].get('town', '') or result[0]['components'].get('village', 'Unknown')\n",
    "        else:\n",
    "            return \"Unknown\"\n",
    "    except Exception as e:\n",
    "        print(f\"Error: {e}\")\n",
    "        return \"Unknown\"\n",
    "\n",
    "# Apply the function to each row in the DataFrame\n",
    "map_data['City'] = map_data.apply(lambda row: get_city(row['Lat'], row['Lon']), axis=1)\n"
   ]
  },
  {
   "cell_type": "code",
   "execution_count": 16,
   "metadata": {},
   "outputs": [
    {
     "data": {
      "text/html": [
       "<div>\n",
       "<style scoped>\n",
       "    .dataframe tbody tr th:only-of-type {\n",
       "        vertical-align: middle;\n",
       "    }\n",
       "\n",
       "    .dataframe tbody tr th {\n",
       "        vertical-align: top;\n",
       "    }\n",
       "\n",
       "    .dataframe thead th {\n",
       "        text-align: right;\n",
       "    }\n",
       "</style>\n",
       "<table border=\"1\" class=\"dataframe\">\n",
       "  <thead>\n",
       "    <tr style=\"text-align: right;\">\n",
       "      <th></th>\n",
       "      <th>Lat</th>\n",
       "      <th>Lon</th>\n",
       "      <th>AQI</th>\n",
       "      <th>CO</th>\n",
       "      <th>NH3</th>\n",
       "      <th>NO2</th>\n",
       "      <th>O3</th>\n",
       "      <th>PM10</th>\n",
       "      <th>PM2.5</th>\n",
       "      <th>SO2</th>\n",
       "      <th>City</th>\n",
       "    </tr>\n",
       "  </thead>\n",
       "  <tbody>\n",
       "    <tr>\n",
       "      <th>37</th>\n",
       "      <td>34.5008</td>\n",
       "      <td>-117.1859</td>\n",
       "      <td>4</td>\n",
       "      <td>253.68</td>\n",
       "      <td>0.44</td>\n",
       "      <td>3.00</td>\n",
       "      <td>175.95</td>\n",
       "      <td>36.71</td>\n",
       "      <td>28.12</td>\n",
       "      <td>3.16</td>\n",
       "      <td>Apple Valley</td>\n",
       "    </tr>\n",
       "    <tr>\n",
       "      <th>45</th>\n",
       "      <td>41.8134</td>\n",
       "      <td>-87.8181</td>\n",
       "      <td>3</td>\n",
       "      <td>634.19</td>\n",
       "      <td>5.19</td>\n",
       "      <td>74.03</td>\n",
       "      <td>0.11</td>\n",
       "      <td>15.70</td>\n",
       "      <td>10.85</td>\n",
       "      <td>3.67</td>\n",
       "      <td>Lyons</td>\n",
       "    </tr>\n",
       "    <tr>\n",
       "      <th>3</th>\n",
       "      <td>24.8333</td>\n",
       "      <td>-104.8333</td>\n",
       "      <td>3</td>\n",
       "      <td>181.91</td>\n",
       "      <td>0.67</td>\n",
       "      <td>0.33</td>\n",
       "      <td>101.57</td>\n",
       "      <td>12.98</td>\n",
       "      <td>7.91</td>\n",
       "      <td>1.39</td>\n",
       "      <td>Fuente del Llano</td>\n",
       "    </tr>\n",
       "    <tr>\n",
       "      <th>18</th>\n",
       "      <td>33.6681</td>\n",
       "      <td>-117.3273</td>\n",
       "      <td>3</td>\n",
       "      <td>240.33</td>\n",
       "      <td>0.47</td>\n",
       "      <td>5.27</td>\n",
       "      <td>108.72</td>\n",
       "      <td>12.15</td>\n",
       "      <td>8.14</td>\n",
       "      <td>2.21</td>\n",
       "      <td>Lake Elsinore</td>\n",
       "    </tr>\n",
       "    <tr>\n",
       "      <th>27</th>\n",
       "      <td>41.4700</td>\n",
       "      <td>-87.6364</td>\n",
       "      <td>3</td>\n",
       "      <td>614.17</td>\n",
       "      <td>3.23</td>\n",
       "      <td>81.57</td>\n",
       "      <td>2.62</td>\n",
       "      <td>23.39</td>\n",
       "      <td>12.16</td>\n",
       "      <td>3.70</td>\n",
       "      <td>Steger</td>\n",
       "    </tr>\n",
       "  </tbody>\n",
       "</table>\n",
       "</div>"
      ],
      "text/plain": [
       "        Lat       Lon  AQI      CO   NH3    NO2      O3   PM10  PM2.5   SO2  \\\n",
       "37  34.5008 -117.1859    4  253.68  0.44   3.00  175.95  36.71  28.12  3.16   \n",
       "45  41.8134  -87.8181    3  634.19  5.19  74.03    0.11  15.70  10.85  3.67   \n",
       "3   24.8333 -104.8333    3  181.91  0.67   0.33  101.57  12.98   7.91  1.39   \n",
       "18  33.6681 -117.3273    3  240.33  0.47   5.27  108.72  12.15   8.14  2.21   \n",
       "27  41.4700  -87.6364    3  614.17  3.23  81.57    2.62  23.39  12.16  3.70   \n",
       "\n",
       "                City  \n",
       "37      Apple Valley  \n",
       "45             Lyons  \n",
       "3   Fuente del Llano  \n",
       "18     Lake Elsinore  \n",
       "27            Steger  "
      ]
     },
     "execution_count": 16,
     "metadata": {},
     "output_type": "execute_result"
    }
   ],
   "source": [
    "top_5_cities['City'] = top_5_cities.apply(lambda row: get_city(row['Lat'], row['Lon']), axis=1)\n",
    "top_5_cities\n"
   ]
  },
  {
   "cell_type": "code",
   "execution_count": 17,
   "metadata": {},
   "outputs": [
    {
     "data": {
      "text/html": [
       "<div>\n",
       "<style scoped>\n",
       "    .dataframe tbody tr th:only-of-type {\n",
       "        vertical-align: middle;\n",
       "    }\n",
       "\n",
       "    .dataframe tbody tr th {\n",
       "        vertical-align: top;\n",
       "    }\n",
       "\n",
       "    .dataframe thead th {\n",
       "        text-align: right;\n",
       "    }\n",
       "</style>\n",
       "<table border=\"1\" class=\"dataframe\">\n",
       "  <thead>\n",
       "    <tr style=\"text-align: right;\">\n",
       "      <th></th>\n",
       "      <th>Lat</th>\n",
       "      <th>Lon</th>\n",
       "      <th>AQI</th>\n",
       "      <th>CO</th>\n",
       "      <th>NH3</th>\n",
       "      <th>NO2</th>\n",
       "      <th>O3</th>\n",
       "      <th>PM10</th>\n",
       "      <th>PM2.5</th>\n",
       "      <th>SO2</th>\n",
       "      <th>City</th>\n",
       "    </tr>\n",
       "  </thead>\n",
       "  <tbody>\n",
       "    <tr>\n",
       "      <th>46</th>\n",
       "      <td>16.7500</td>\n",
       "      <td>-93.1167</td>\n",
       "      <td>1</td>\n",
       "      <td>243.66</td>\n",
       "      <td>0.44</td>\n",
       "      <td>2.42</td>\n",
       "      <td>45.42</td>\n",
       "      <td>4.04</td>\n",
       "      <td>3.81</td>\n",
       "      <td>0.47</td>\n",
       "      <td>Tuxtla Gutiérrez</td>\n",
       "    </tr>\n",
       "    <tr>\n",
       "      <th>20</th>\n",
       "      <td>42.3518</td>\n",
       "      <td>-71.8634</td>\n",
       "      <td>1</td>\n",
       "      <td>230.31</td>\n",
       "      <td>0.28</td>\n",
       "      <td>4.93</td>\n",
       "      <td>56.51</td>\n",
       "      <td>0.91</td>\n",
       "      <td>0.50</td>\n",
       "      <td>0.04</td>\n",
       "      <td>Holden</td>\n",
       "    </tr>\n",
       "    <tr>\n",
       "      <th>14</th>\n",
       "      <td>38.8120</td>\n",
       "      <td>-94.5319</td>\n",
       "      <td>1</td>\n",
       "      <td>303.75</td>\n",
       "      <td>1.38</td>\n",
       "      <td>20.91</td>\n",
       "      <td>55.79</td>\n",
       "      <td>4.80</td>\n",
       "      <td>4.05</td>\n",
       "      <td>6.97</td>\n",
       "      <td>Belton</td>\n",
       "    </tr>\n",
       "    <tr>\n",
       "      <th>35</th>\n",
       "      <td>42.1668</td>\n",
       "      <td>-71.2495</td>\n",
       "      <td>1</td>\n",
       "      <td>313.76</td>\n",
       "      <td>0.98</td>\n",
       "      <td>17.65</td>\n",
       "      <td>38.62</td>\n",
       "      <td>4.65</td>\n",
       "      <td>2.23</td>\n",
       "      <td>0.24</td>\n",
       "      <td>Walpole</td>\n",
       "    </tr>\n",
       "    <tr>\n",
       "      <th>25</th>\n",
       "      <td>18.4444</td>\n",
       "      <td>-66.3877</td>\n",
       "      <td>1</td>\n",
       "      <td>213.62</td>\n",
       "      <td>0.00</td>\n",
       "      <td>0.26</td>\n",
       "      <td>36.48</td>\n",
       "      <td>1.08</td>\n",
       "      <td>0.50</td>\n",
       "      <td>0.18</td>\n",
       "      <td>Vega Baja</td>\n",
       "    </tr>\n",
       "  </tbody>\n",
       "</table>\n",
       "</div>"
      ],
      "text/plain": [
       "        Lat      Lon  AQI      CO   NH3    NO2     O3  PM10  PM2.5   SO2  \\\n",
       "46  16.7500 -93.1167    1  243.66  0.44   2.42  45.42  4.04   3.81  0.47   \n",
       "20  42.3518 -71.8634    1  230.31  0.28   4.93  56.51  0.91   0.50  0.04   \n",
       "14  38.8120 -94.5319    1  303.75  1.38  20.91  55.79  4.80   4.05  6.97   \n",
       "35  42.1668 -71.2495    1  313.76  0.98  17.65  38.62  4.65   2.23  0.24   \n",
       "25  18.4444 -66.3877    1  213.62  0.00   0.26  36.48  1.08   0.50  0.18   \n",
       "\n",
       "                City  \n",
       "46  Tuxtla Gutiérrez  \n",
       "20            Holden  \n",
       "14            Belton  \n",
       "35           Walpole  \n",
       "25         Vega Baja  "
      ]
     },
     "execution_count": 17,
     "metadata": {},
     "output_type": "execute_result"
    }
   ],
   "source": [
    "bottom_5_cities['City'] = bottom_5_cities.apply(lambda row: get_city(row['Lat'], row['Lon']), axis=1)\n",
    "bottom_5_cities\n"
   ]
  },
  {
   "cell_type": "code",
   "execution_count": 18,
   "metadata": {},
   "outputs": [
    {
     "name": "stdout",
     "output_type": "stream",
     "text": [
      "[{'name': 'Durango', 'local_names': {'eu': 'Durango', 'ru': 'Дуранго'}, 'lat': 43.1707065, 'lon': -2.6334897, 'country': 'ES', 'state': 'Autonomous Community of the Basque Country'}]\n",
      "Found Durango: 43.1707065, -2.6334897\n",
      "[{'name': 'Tepeapulco', 'lat': 19.7875962, 'lon': -98.5522855, 'country': 'MX', 'state': 'Hidalgo'}]\n",
      "Found Tepeapulco: 19.7875962, -98.5522855\n",
      "[{'name': 'San Matías Tlalancaleca', 'lat': 19.3243081, 'lon': -98.4981701, 'country': 'MX', 'state': 'Puebla'}]\n",
      "Found Tlalancaleca: 19.3243081, -98.4981701\n",
      "[{'name': 'Santa María Moyotzingo', 'lat': 19.245278, 'lon': -98.404722, 'country': 'MX', 'state': 'Puebla'}]\n",
      "Found Moyotzingo: 19.245278, -98.404722\n",
      "[{'name': 'Santa Ana Xalmimilulco', 'lat': 19.2111351, 'lon': -98.3807, 'country': 'MX', 'state': 'Puebla'}]\n",
      "Found Xalmimilulco: 19.2111351, -98.3807\n",
      "                        Country          City  AQI Value AQI Category  \\\n",
      "5156   United States of America       Durango        500    Hazardous   \n",
      "8547                     Mexico    Tepeapulco        384    Hazardous   \n",
      "23201                    Mexico  Tlalancaleca        355    Hazardous   \n",
      "4429                     Mexico    Moyotzingo        332    Hazardous   \n",
      "13243                    Mexico  Xalmimilulco        326    Hazardous   \n",
      "\n",
      "       CO AQI Value                 CO AQI Category  Ozone AQI Value  \\\n",
      "5156            133  Unhealthy for Sensitive Groups                0   \n",
      "8547              3                            Good               25   \n",
      "23201             4                            Good                4   \n",
      "4429              3                            Good               26   \n",
      "13243             4                            Good                2   \n",
      "\n",
      "      Ozone AQI Category  NO2 AQI Value NO2 AQI Category  PM2.5 AQI Value  \\\n",
      "5156                Good             53         Moderate              500   \n",
      "8547                Good              6             Good              384   \n",
      "23201               Good             17             Good              355   \n",
      "4429                Good              8             Good              332   \n",
      "13243               Good             17             Good              326   \n",
      "\n",
      "      PM2.5 AQI Category                Coordinates   Latitude  Longitude  \n",
      "5156           Hazardous   (43.1707065, -2.6334897)  43.170707  -2.633490  \n",
      "8547           Hazardous  (19.7875962, -98.5522855)  19.787596 -98.552285  \n",
      "23201          Hazardous  (19.3243081, -98.4981701)  19.324308 -98.498170  \n",
      "4429           Hazardous    (19.245278, -98.404722)  19.245278 -98.404722  \n",
      "13243          Hazardous     (19.2111351, -98.3807)  19.211135 -98.380700  \n"
     ]
    }
   ],
   "source": [
    "import requests\n",
    "import time\n",
    "\n",
    "# OpenWeatherAPI Key\n",
    "api_key = \"f10265912a80ed3b753c7e38462d7a17\" \n",
    "\n",
    "\n",
    "\n",
    "# Function to get coordinates using OpenWeatherAPI\n",
    "def get_coordinates(city_name):\n",
    "    url = f\"http://api.openweathermap.org/geo/1.0/direct?q={city_name}&limit=1&appid={api_key}\"\n",
    "    try:\n",
    "        response = requests.get(url)\n",
    "        data = response.json()\n",
    "        print(data)  # Check what data is returned\n",
    "        if data:\n",
    "            latitude = data[0]['lat']\n",
    "            longitude = data[0]['lon']\n",
    "            print(f\"Found {city_name}: {latitude}, {longitude}\")\n",
    "            return latitude, longitude\n",
    "        else:\n",
    "            print(f\"Could not find location for {city_name}\")\n",
    "            return None\n",
    "    except Exception as e:\n",
    "        print(f\"Error retrieving coordinates for {city_name}: {e}\")\n",
    "        return None\n",
    "\n",
    "# Apply the function to get latitude and longitude for each city\n",
    "top_5_pm25['Coordinates'] = top_5_pm25['City'].apply(get_coordinates)\n",
    "top_5_pm25['Latitude'] = top_5_pm25['Coordinates'].apply(lambda x: x[0] if x else None)\n",
    "top_5_pm25['Longitude'] = top_5_pm25['Coordinates'].apply(lambda x: x[1] if x else None)\n",
    "\n",
    "# Display the updated DataFrame with coordinates\n",
    "print(top_5_pm25)\n"
   ]
  },
  {
   "cell_type": "code",
   "execution_count": 19,
   "metadata": {},
   "outputs": [
    {
     "name": "stdout",
     "output_type": "stream",
     "text": [
      "Requirement already satisfied: folium in /opt/anaconda3/lib/python3.11/site-packages (0.17.0)\n",
      "Requirement already satisfied: branca>=0.6.0 in /opt/anaconda3/lib/python3.11/site-packages (from folium) (0.8.0)\n",
      "Requirement already satisfied: jinja2>=2.9 in /opt/anaconda3/lib/python3.11/site-packages (from folium) (3.1.3)\n",
      "Requirement already satisfied: numpy in /opt/anaconda3/lib/python3.11/site-packages (from folium) (1.26.4)\n",
      "Requirement already satisfied: requests in /opt/anaconda3/lib/python3.11/site-packages (from folium) (2.31.0)\n",
      "Requirement already satisfied: xyzservices in /opt/anaconda3/lib/python3.11/site-packages (from folium) (2022.9.0)\n",
      "Requirement already satisfied: MarkupSafe>=2.0 in /opt/anaconda3/lib/python3.11/site-packages (from jinja2>=2.9->folium) (2.1.3)\n",
      "Requirement already satisfied: charset-normalizer<4,>=2 in /opt/anaconda3/lib/python3.11/site-packages (from requests->folium) (2.0.4)\n",
      "Requirement already satisfied: idna<4,>=2.5 in /opt/anaconda3/lib/python3.11/site-packages (from requests->folium) (3.4)\n",
      "Requirement already satisfied: urllib3<3,>=1.21.1 in /opt/anaconda3/lib/python3.11/site-packages (from requests->folium) (2.0.7)\n",
      "Requirement already satisfied: certifi>=2017.4.17 in /opt/anaconda3/lib/python3.11/site-packages (from requests->folium) (2024.8.30)\n",
      "Note: you may need to restart the kernel to use updated packages.\n"
     ]
    }
   ],
   "source": [
    "pip install folium\n"
   ]
  },
  {
   "cell_type": "code",
   "execution_count": 20,
   "metadata": {},
   "outputs": [
    {
     "data": {
      "text/html": [
       "<div style=\"width:100%;\"><div style=\"position:relative;width:100%;height:0;padding-bottom:60%;\"><span style=\"color:#565656\">Make this Notebook Trusted to load map: File -> Trust Notebook</span><iframe srcdoc=\"&lt;!DOCTYPE html&gt;\n",
       "&lt;html&gt;\n",
       "&lt;head&gt;\n",
       "    \n",
       "    &lt;meta http-equiv=&quot;content-type&quot; content=&quot;text/html; charset=UTF-8&quot; /&gt;\n",
       "    \n",
       "        &lt;script&gt;\n",
       "            L_NO_TOUCH = false;\n",
       "            L_DISABLE_3D = false;\n",
       "        &lt;/script&gt;\n",
       "    \n",
       "    &lt;style&gt;html, body {width: 100%;height: 100%;margin: 0;padding: 0;}&lt;/style&gt;\n",
       "    &lt;style&gt;#map {position:absolute;top:0;bottom:0;right:0;left:0;}&lt;/style&gt;\n",
       "    &lt;script src=&quot;https://cdn.jsdelivr.net/npm/leaflet@1.9.3/dist/leaflet.js&quot;&gt;&lt;/script&gt;\n",
       "    &lt;script src=&quot;https://code.jquery.com/jquery-3.7.1.min.js&quot;&gt;&lt;/script&gt;\n",
       "    &lt;script src=&quot;https://cdn.jsdelivr.net/npm/bootstrap@5.2.2/dist/js/bootstrap.bundle.min.js&quot;&gt;&lt;/script&gt;\n",
       "    &lt;script src=&quot;https://cdnjs.cloudflare.com/ajax/libs/Leaflet.awesome-markers/2.0.2/leaflet.awesome-markers.js&quot;&gt;&lt;/script&gt;\n",
       "    &lt;link rel=&quot;stylesheet&quot; href=&quot;https://cdn.jsdelivr.net/npm/leaflet@1.9.3/dist/leaflet.css&quot;/&gt;\n",
       "    &lt;link rel=&quot;stylesheet&quot; href=&quot;https://cdn.jsdelivr.net/npm/bootstrap@5.2.2/dist/css/bootstrap.min.css&quot;/&gt;\n",
       "    &lt;link rel=&quot;stylesheet&quot; href=&quot;https://netdna.bootstrapcdn.com/bootstrap/3.0.0/css/bootstrap-glyphicons.css&quot;/&gt;\n",
       "    &lt;link rel=&quot;stylesheet&quot; href=&quot;https://cdn.jsdelivr.net/npm/@fortawesome/fontawesome-free@6.2.0/css/all.min.css&quot;/&gt;\n",
       "    &lt;link rel=&quot;stylesheet&quot; href=&quot;https://cdnjs.cloudflare.com/ajax/libs/Leaflet.awesome-markers/2.0.2/leaflet.awesome-markers.css&quot;/&gt;\n",
       "    &lt;link rel=&quot;stylesheet&quot; href=&quot;https://cdn.jsdelivr.net/gh/python-visualization/folium/folium/templates/leaflet.awesome.rotate.min.css&quot;/&gt;\n",
       "    \n",
       "            &lt;meta name=&quot;viewport&quot; content=&quot;width=device-width,\n",
       "                initial-scale=1.0, maximum-scale=1.0, user-scalable=no&quot; /&gt;\n",
       "            &lt;style&gt;\n",
       "                #map_345c3d7adccafbd06eeb43ba727d50d5 {\n",
       "                    position: relative;\n",
       "                    width: 100.0%;\n",
       "                    height: 100.0%;\n",
       "                    left: 0.0%;\n",
       "                    top: 0.0%;\n",
       "                }\n",
       "                .leaflet-container { font-size: 1rem; }\n",
       "            &lt;/style&gt;\n",
       "        \n",
       "&lt;/head&gt;\n",
       "&lt;body&gt;\n",
       "    \n",
       "    \n",
       "            &lt;div class=&quot;folium-map&quot; id=&quot;map_345c3d7adccafbd06eeb43ba727d50d5&quot; &gt;&lt;/div&gt;\n",
       "        \n",
       "&lt;/body&gt;\n",
       "&lt;script&gt;\n",
       "    \n",
       "    \n",
       "            var map_345c3d7adccafbd06eeb43ba727d50d5 = L.map(\n",
       "                &quot;map_345c3d7adccafbd06eeb43ba727d50d5&quot;,\n",
       "                {\n",
       "                    center: [24.14780478, -79.29387346],\n",
       "                    crs: L.CRS.EPSG3857,\n",
       "                    zoom: 5,\n",
       "                    zoomControl: true,\n",
       "                    preferCanvas: false,\n",
       "                }\n",
       "            );\n",
       "\n",
       "            \n",
       "\n",
       "        \n",
       "    \n",
       "            var tile_layer_077ce773a1b29d5efac1c25a4004ce06 = L.tileLayer(\n",
       "                &quot;https://tile.openstreetmap.org/{z}/{x}/{y}.png&quot;,\n",
       "                {&quot;attribution&quot;: &quot;\\u0026copy; \\u003ca href=\\&quot;https://www.openstreetmap.org/copyright\\&quot;\\u003eOpenStreetMap\\u003c/a\\u003e contributors&quot;, &quot;detectRetina&quot;: false, &quot;maxNativeZoom&quot;: 19, &quot;maxZoom&quot;: 19, &quot;minZoom&quot;: 0, &quot;noWrap&quot;: false, &quot;opacity&quot;: 1, &quot;subdomains&quot;: &quot;abc&quot;, &quot;tms&quot;: false}\n",
       "            );\n",
       "        \n",
       "    \n",
       "            tile_layer_077ce773a1b29d5efac1c25a4004ce06.addTo(map_345c3d7adccafbd06eeb43ba727d50d5);\n",
       "        \n",
       "    \n",
       "            var marker_3418ed2d1cd56b6b0ab48438f11f6a0d = L.marker(\n",
       "                [43.1707065, -2.6334897],\n",
       "                {}\n",
       "            ).addTo(map_345c3d7adccafbd06eeb43ba727d50d5);\n",
       "        \n",
       "    \n",
       "            var icon_f94b2d9dc2d26e0ec87ae74c2eb5e5ac = L.AwesomeMarkers.icon(\n",
       "                {&quot;extraClasses&quot;: &quot;fa-rotate-0&quot;, &quot;icon&quot;: &quot;info-sign&quot;, &quot;iconColor&quot;: &quot;white&quot;, &quot;markerColor&quot;: &quot;red&quot;, &quot;prefix&quot;: &quot;glyphicon&quot;}\n",
       "            );\n",
       "            marker_3418ed2d1cd56b6b0ab48438f11f6a0d.setIcon(icon_f94b2d9dc2d26e0ec87ae74c2eb5e5ac);\n",
       "        \n",
       "    \n",
       "        var popup_00dbb1931d5defc6e6ef450c76f6cb0c = L.popup({&quot;maxWidth&quot;: &quot;100%&quot;});\n",
       "\n",
       "        \n",
       "            \n",
       "                var html_ce26376682d5ca903ee1d4221d6bd72c = $(`&lt;div id=&quot;html_ce26376682d5ca903ee1d4221d6bd72c&quot; style=&quot;width: 100.0%; height: 100.0%;&quot;&gt;Durango: PM2.5 AQI Value = 500&lt;/div&gt;`)[0];\n",
       "                popup_00dbb1931d5defc6e6ef450c76f6cb0c.setContent(html_ce26376682d5ca903ee1d4221d6bd72c);\n",
       "            \n",
       "        \n",
       "\n",
       "        marker_3418ed2d1cd56b6b0ab48438f11f6a0d.bindPopup(popup_00dbb1931d5defc6e6ef450c76f6cb0c)\n",
       "        ;\n",
       "\n",
       "        \n",
       "    \n",
       "    \n",
       "            var marker_f5975c45bde7729a0f13441be90ac600 = L.marker(\n",
       "                [19.7875962, -98.5522855],\n",
       "                {}\n",
       "            ).addTo(map_345c3d7adccafbd06eeb43ba727d50d5);\n",
       "        \n",
       "    \n",
       "            var icon_ae7b1b6999954b62c30eed1d22b3f429 = L.AwesomeMarkers.icon(\n",
       "                {&quot;extraClasses&quot;: &quot;fa-rotate-0&quot;, &quot;icon&quot;: &quot;info-sign&quot;, &quot;iconColor&quot;: &quot;white&quot;, &quot;markerColor&quot;: &quot;red&quot;, &quot;prefix&quot;: &quot;glyphicon&quot;}\n",
       "            );\n",
       "            marker_f5975c45bde7729a0f13441be90ac600.setIcon(icon_ae7b1b6999954b62c30eed1d22b3f429);\n",
       "        \n",
       "    \n",
       "        var popup_e59092385fad44c2c559270acc5bb80d = L.popup({&quot;maxWidth&quot;: &quot;100%&quot;});\n",
       "\n",
       "        \n",
       "            \n",
       "                var html_6e4468fd27d04749e88ad4df0a744f87 = $(`&lt;div id=&quot;html_6e4468fd27d04749e88ad4df0a744f87&quot; style=&quot;width: 100.0%; height: 100.0%;&quot;&gt;Tepeapulco: PM2.5 AQI Value = 384&lt;/div&gt;`)[0];\n",
       "                popup_e59092385fad44c2c559270acc5bb80d.setContent(html_6e4468fd27d04749e88ad4df0a744f87);\n",
       "            \n",
       "        \n",
       "\n",
       "        marker_f5975c45bde7729a0f13441be90ac600.bindPopup(popup_e59092385fad44c2c559270acc5bb80d)\n",
       "        ;\n",
       "\n",
       "        \n",
       "    \n",
       "    \n",
       "            var marker_a63081ff148fdef2becbb15667563d99 = L.marker(\n",
       "                [19.3243081, -98.4981701],\n",
       "                {}\n",
       "            ).addTo(map_345c3d7adccafbd06eeb43ba727d50d5);\n",
       "        \n",
       "    \n",
       "            var icon_1303aa6ba06aa68fdce8b361f33843b1 = L.AwesomeMarkers.icon(\n",
       "                {&quot;extraClasses&quot;: &quot;fa-rotate-0&quot;, &quot;icon&quot;: &quot;info-sign&quot;, &quot;iconColor&quot;: &quot;white&quot;, &quot;markerColor&quot;: &quot;red&quot;, &quot;prefix&quot;: &quot;glyphicon&quot;}\n",
       "            );\n",
       "            marker_a63081ff148fdef2becbb15667563d99.setIcon(icon_1303aa6ba06aa68fdce8b361f33843b1);\n",
       "        \n",
       "    \n",
       "        var popup_a177ff63447df12082481217e3c9a0e0 = L.popup({&quot;maxWidth&quot;: &quot;100%&quot;});\n",
       "\n",
       "        \n",
       "            \n",
       "                var html_0a78597bf29b1ea733b44655b298d340 = $(`&lt;div id=&quot;html_0a78597bf29b1ea733b44655b298d340&quot; style=&quot;width: 100.0%; height: 100.0%;&quot;&gt;Tlalancaleca: PM2.5 AQI Value = 355&lt;/div&gt;`)[0];\n",
       "                popup_a177ff63447df12082481217e3c9a0e0.setContent(html_0a78597bf29b1ea733b44655b298d340);\n",
       "            \n",
       "        \n",
       "\n",
       "        marker_a63081ff148fdef2becbb15667563d99.bindPopup(popup_a177ff63447df12082481217e3c9a0e0)\n",
       "        ;\n",
       "\n",
       "        \n",
       "    \n",
       "    \n",
       "            var marker_307cfc6b09ae452132d679d1e7f5f564 = L.marker(\n",
       "                [19.245278, -98.404722],\n",
       "                {}\n",
       "            ).addTo(map_345c3d7adccafbd06eeb43ba727d50d5);\n",
       "        \n",
       "    \n",
       "            var icon_ca9010ebbd295316d37ad677aa0b8278 = L.AwesomeMarkers.icon(\n",
       "                {&quot;extraClasses&quot;: &quot;fa-rotate-0&quot;, &quot;icon&quot;: &quot;info-sign&quot;, &quot;iconColor&quot;: &quot;white&quot;, &quot;markerColor&quot;: &quot;red&quot;, &quot;prefix&quot;: &quot;glyphicon&quot;}\n",
       "            );\n",
       "            marker_307cfc6b09ae452132d679d1e7f5f564.setIcon(icon_ca9010ebbd295316d37ad677aa0b8278);\n",
       "        \n",
       "    \n",
       "        var popup_a2d5f478c3630506db5a6d67d8256839 = L.popup({&quot;maxWidth&quot;: &quot;100%&quot;});\n",
       "\n",
       "        \n",
       "            \n",
       "                var html_30b03fad06eec2ee115596419aad269c = $(`&lt;div id=&quot;html_30b03fad06eec2ee115596419aad269c&quot; style=&quot;width: 100.0%; height: 100.0%;&quot;&gt;Moyotzingo: PM2.5 AQI Value = 332&lt;/div&gt;`)[0];\n",
       "                popup_a2d5f478c3630506db5a6d67d8256839.setContent(html_30b03fad06eec2ee115596419aad269c);\n",
       "            \n",
       "        \n",
       "\n",
       "        marker_307cfc6b09ae452132d679d1e7f5f564.bindPopup(popup_a2d5f478c3630506db5a6d67d8256839)\n",
       "        ;\n",
       "\n",
       "        \n",
       "    \n",
       "    \n",
       "            var marker_953cf57a44eced84bd20c2b39c032a67 = L.marker(\n",
       "                [19.2111351, -98.3807],\n",
       "                {}\n",
       "            ).addTo(map_345c3d7adccafbd06eeb43ba727d50d5);\n",
       "        \n",
       "    \n",
       "            var icon_0a4e4a8b2629843253d31b6625f55d85 = L.AwesomeMarkers.icon(\n",
       "                {&quot;extraClasses&quot;: &quot;fa-rotate-0&quot;, &quot;icon&quot;: &quot;info-sign&quot;, &quot;iconColor&quot;: &quot;white&quot;, &quot;markerColor&quot;: &quot;red&quot;, &quot;prefix&quot;: &quot;glyphicon&quot;}\n",
       "            );\n",
       "            marker_953cf57a44eced84bd20c2b39c032a67.setIcon(icon_0a4e4a8b2629843253d31b6625f55d85);\n",
       "        \n",
       "    \n",
       "        var popup_aa9551168a64c2f2cf80162b4c7ec8d3 = L.popup({&quot;maxWidth&quot;: &quot;100%&quot;});\n",
       "\n",
       "        \n",
       "            \n",
       "                var html_1fc6e4f73bcc2f36d3e91e1073a8b450 = $(`&lt;div id=&quot;html_1fc6e4f73bcc2f36d3e91e1073a8b450&quot; style=&quot;width: 100.0%; height: 100.0%;&quot;&gt;Xalmimilulco: PM2.5 AQI Value = 326&lt;/div&gt;`)[0];\n",
       "                popup_aa9551168a64c2f2cf80162b4c7ec8d3.setContent(html_1fc6e4f73bcc2f36d3e91e1073a8b450);\n",
       "            \n",
       "        \n",
       "\n",
       "        marker_953cf57a44eced84bd20c2b39c032a67.bindPopup(popup_aa9551168a64c2f2cf80162b4c7ec8d3)\n",
       "        ;\n",
       "\n",
       "        \n",
       "    \n",
       "    \n",
       "            tile_layer_077ce773a1b29d5efac1c25a4004ce06.addTo(map_345c3d7adccafbd06eeb43ba727d50d5);\n",
       "        \n",
       "&lt;/script&gt;\n",
       "&lt;/html&gt;\" style=\"position:absolute;width:100%;height:100%;left:0;top:0;border:none !important;\" allowfullscreen webkitallowfullscreen mozallowfullscreen></iframe></div></div>"
      ],
      "text/plain": [
       "<folium.folium.Map at 0x16c852e90>"
      ]
     },
     "execution_count": 20,
     "metadata": {},
     "output_type": "execute_result"
    }
   ],
   "source": [
    "import folium\n",
    "\n",
    "# Create a map centered at the average coordinates of all cities\n",
    "center_lat = top_5_pm25['Latitude'].mean()\n",
    "center_lon = top_5_pm25['Longitude'].mean()\n",
    "\n",
    "city_map = folium.Map(location=[center_lat, center_lon], zoom_start=5)\n",
    "\n",
    "# Add markers for each city\n",
    "for index, row in top_5_pm25.iterrows():\n",
    "    folium.Marker(\n",
    "        location=[row['Latitude'], row['Longitude']],\n",
    "        popup=f\"{row['City']}: PM2.5 AQI Value = {row['PM2.5 AQI Value']}\",\n",
    "        icon=folium.Icon(color='red' if row['PM2.5 AQI Value'] > 100 else 'green')  # Red for high pollution\n",
    "    ).add_to(city_map)\n",
    "\n",
    "# Display the map\n",
    "city_map.save('top_5_cities_map.html')\n",
    "city_map\n"
   ]
  },
  {
   "cell_type": "code",
   "execution_count": 21,
   "metadata": {},
   "outputs": [
    {
     "data": {
      "image/png": "[encoded data removed]",
      "text/plain": [
       "<Figure size 1000x600 with 1 Axes>"
      ]
     },
     "metadata": {},
     "output_type": "display_data"
    }
   ],
   "source": [
    "# Sort the data by PM2.5 AQI Value and select the top 5 cities with the lowest levels\n",
    "best_5_pm25 = NorthAmerica_df.sort_values(by='PM2.5 AQI Value', ascending=True).head(5)\n",
    "\n",
    "# Plot a horizontal bar chart for best air quality cities\n",
    "plt.figure(figsize=(10, 6))\n",
    "sns.barplot(x='PM2.5 AQI Value', y='City', data=best_5_pm25, palette='Greens_d')\n",
    "plt.title('Top 5 Cities with the Best Air Quality (Lowest PM2.5 Levels)')\n",
    "plt.xlabel('PM2.5 AQI Value')\n",
    "plt.ylabel('City')\n",
    "plt.show()"
   ]
  },
  {
   "cell_type": "code",
   "execution_count": 22,
   "metadata": {},
   "outputs": [
    {
     "name": "stdout",
     "output_type": "stream",
     "text": [
      "[{'name': 'Durango', 'local_names': {'eu': 'Durango', 'ru': 'Дуранго'}, 'lat': 43.1707065, 'lon': -2.6334897, 'country': 'ES', 'state': 'Autonomous Community of the Basque Country'}]\n",
      "Found Durango: 43.1707065, -2.6334897\n",
      "[{'name': 'Tepeapulco', 'lat': 19.7875962, 'lon': -98.5522855, 'country': 'MX', 'state': 'Hidalgo'}]\n",
      "Found Tepeapulco: 19.7875962, -98.5522855\n",
      "[{'name': 'San Matías Tlalancaleca', 'lat': 19.3243081, 'lon': -98.4981701, 'country': 'MX', 'state': 'Puebla'}]\n",
      "Found Tlalancaleca: 19.3243081, -98.4981701\n",
      "[{'name': 'Santa María Moyotzingo', 'lat': 19.245278, 'lon': -98.404722, 'country': 'MX', 'state': 'Puebla'}]\n",
      "Found Moyotzingo: 19.245278, -98.404722\n",
      "[{'name': 'Santa Ana Xalmimilulco', 'lat': 19.2111351, 'lon': -98.3807, 'country': 'MX', 'state': 'Puebla'}]\n",
      "Found Xalmimilulco: 19.2111351, -98.3807\n",
      "                        Country          City  AQI Value AQI Category  \\\n",
      "5156   United States of America       Durango        500    Hazardous   \n",
      "8547                     Mexico    Tepeapulco        384    Hazardous   \n",
      "23201                    Mexico  Tlalancaleca        355    Hazardous   \n",
      "4429                     Mexico    Moyotzingo        332    Hazardous   \n",
      "13243                    Mexico  Xalmimilulco        326    Hazardous   \n",
      "\n",
      "       CO AQI Value                 CO AQI Category  Ozone AQI Value  \\\n",
      "5156            133  Unhealthy for Sensitive Groups                0   \n",
      "8547              3                            Good               25   \n",
      "23201             4                            Good                4   \n",
      "4429              3                            Good               26   \n",
      "13243             4                            Good                2   \n",
      "\n",
      "      Ozone AQI Category  NO2 AQI Value NO2 AQI Category  PM2.5 AQI Value  \\\n",
      "5156                Good             53         Moderate              500   \n",
      "8547                Good              6             Good              384   \n",
      "23201               Good             17             Good              355   \n",
      "4429                Good              8             Good              332   \n",
      "13243               Good             17             Good              326   \n",
      "\n",
      "      PM2.5 AQI Category                Coordinates   Latitude  Longitude  \n",
      "5156           Hazardous   (43.1707065, -2.6334897)  43.170707  -2.633490  \n",
      "8547           Hazardous  (19.7875962, -98.5522855)  19.787596 -98.552285  \n",
      "23201          Hazardous  (19.3243081, -98.4981701)  19.324308 -98.498170  \n",
      "4429           Hazardous    (19.245278, -98.404722)  19.245278 -98.404722  \n",
      "13243          Hazardous     (19.2111351, -98.3807)  19.211135 -98.380700  \n"
     ]
    }
   ],
   "source": [
    "# Function to get coordinates using OpenWeatherAPI\n",
    "def get_coordinates(city_name):\n",
    "    url = f\"http://api.openweathermap.org/geo/1.0/direct?q={city_name}&limit=1&appid={api_key}\"\n",
    "    try:\n",
    "        response = requests.get(url)\n",
    "        data = response.json()\n",
    "        print(data)  # Check what data is returned\n",
    "        if data:\n",
    "            latitude = data[0]['lat']\n",
    "            longitude = data[0]['lon']\n",
    "            print(f\"Found {city_name}: {latitude}, {longitude}\")\n",
    "            return latitude, longitude\n",
    "        else:\n",
    "            print(f\"Could not find location for {city_name}\")\n",
    "            return None\n",
    "    except Exception as e:\n",
    "        print(f\"Error retrieving coordinates for {city_name}: {e}\")\n",
    "        return None\n",
    "\n",
    "# Apply the function to get latitude and longitude for each city\n",
    "best_5_pm25['Coordinates'] = top_5_pm25['City'].apply(get_coordinates)\n",
    "best_5_pm25['Latitude'] = top_5_pm25['Coordinates'].apply(lambda x: x[0] if x else None)\n",
    "best_5_pm25['Longitude'] = top_5_pm25['Coordinates'].apply(lambda x: x[1] if x else None)\n",
    "\n",
    "# Display the updated DataFrame with coordinates\n",
    "print(top_5_pm25)"
   ]
  },
  {
   "cell_type": "code",
   "execution_count": 23,
   "metadata": {},
   "outputs": [
    {
     "data": {
      "image/png": "[encoded data removed]",
      "text/plain": [
       "<Figure size 1200x600 with 1 Axes>"
      ]
     },
     "metadata": {},
     "output_type": "display_data"
    }
   ],
   "source": [
    "# Group by country and calculate the mean PM2.5 AQI Value\n",
    "pm25_by_country = global_df.groupby('Country')['PM2.5 AQI Value'].mean().sort_values(ascending=False).head(10)\n",
    "\n",
    "# Create a bar plot to show the average PM2.5 levels by country\n",
    "plt.figure(figsize=(12, 6))\n",
    "pm25_by_country.plot(kind='bar', color='teal')\n",
    "plt.xlabel('Country')\n",
    "plt.ylabel('Average PM2.5 AQI Value')\n",
    "plt.title('Top 10 Countries by Highest Average PM2.5 AQI Levels')\n",
    "plt.xticks(rotation=45)\n",
    "plt.show()"
   ]
  },
  {
   "cell_type": "code",
   "execution_count": 25,
   "metadata": {},
   "outputs": [
    {
     "data": {
      "application/vnd.plotly.v1+json": {
       "config": {
        "plotlyServerURL": "https://plot.ly"
       },
       "data": [
        {
         "alignmentgroup": "True",
         "hovertemplate": "City=%{x}<br>AQI=%{y}<extra></extra>",
         "legendgroup": "",
         "marker": {
          "color": "#636efa",
          "pattern": {
           "shape": ""
          }
         },
         "name": "",
         "offsetgroup": "",
         "orientation": "v",
         "showlegend": false,
         "textposition": "auto",
         "type": "bar",
         "x": [
          "Trussville",
          "Texcoco de Mora",
          "Piedmont",
          "Fuente del Llano",
          "Oconomowoc",
          "Unknown",
          "Garland",
          "Beach Park",
          "Belvidere",
          "Saint Paul",
          "Roy",
          "Naranjos",
          "Punta Gorda",
          "Greensboro",
          "Belton",
          "Mustang",
          "Olive Branch",
          "Cosamaloapan",
          "Lake Elsinore",
          "Town of Princetown",
          "Holden",
          "Ewing Township",
          "Hayden",
          "Hackensack",
          "Rosedale",
          "Vega Baja",
          "Ciudad Satélite",
          "Steger",
          "South Daytona",
          "Glen Rock",
          "Winfield",
          "Corcoran",
          "North Las Vegas",
          "Cleburne",
          "San Anselmo",
          "Walpole",
          "El Torreón",
          "Apple Valley",
          "Barrie",
          "Alliston",
          "Unknown",
          "Charlotte",
          "New Milford",
          "Oakville",
          "Millbury",
          "Lyons",
          "Tuxtla Gutiérrez"
         ],
         "xaxis": "x",
         "y": [
          2,
          2,
          2,
          3,
          1,
          2,
          2,
          1,
          1,
          2,
          2,
          2,
          2,
          2,
          1,
          2,
          2,
          2,
          3,
          2,
          1,
          2,
          2,
          2,
          1,
          1,
          2,
          3,
          2,
          2,
          2,
          2,
          3,
          2,
          2,
          1,
          2,
          4,
          2,
          1,
          1,
          2,
          2,
          1,
          1,
          3,
          1
         ],
         "yaxis": "y"
        }
       ],
       "layout": {
        "barmode": "relative",
        "legend": {
         "tracegroupgap": 0
        },
        "template": {
         "data": {
          "bar": [
           {
            "error_x": {
             "color": "#2a3f5f"
            },
            "error_y": {
             "color": "#2a3f5f"
            },
            "marker": {
             "line": {
              "color": "#E5ECF6",
              "width": 0.5
             },
             "pattern": {
              "fillmode": "overlay",
              "size": 10,
              "solidity": 0.2
             }
            },
            "type": "bar"
           }
          ],
          "barpolar": [
           {
            "marker": {
             "line": {
              "color": "#E5ECF6",
              "width": 0.5
             },
             "pattern": {
              "fillmode": "overlay",
              "size": 10,
              "solidity": 0.2
             }
            },
            "type": "barpolar"
           }
          ],
          "carpet": [
           {
            "aaxis": {
             "endlinecolor": "#2a3f5f",
             "gridcolor": "white",
             "linecolor": "white",
             "minorgridcolor": "white",
             "startlinecolor": "#2a3f5f"
            },
            "baxis": {
             "endlinecolor": "#2a3f5f",
             "gridcolor": "white",
             "linecolor": "white",
             "minorgridcolor": "white",
             "startlinecolor": "#2a3f5f"
            },
            "type": "carpet"
           }
          ],
          "choropleth": [
           {
            "colorbar": {
             "outlinewidth": 0,
             "ticks": ""
            },
            "type": "choropleth"
           }
          ],
          "contour": [
           {
            "colorbar": {
             "outlinewidth": 0,
             "ticks": ""
            },
            "colorscale": [
             [
              0,
              "#0d0887"
             ],
             [
              0.1111111111111111,
              "#46039f"
             ],
             [
              0.2222222222222222,
              "#7201a8"
             ],
             [
              0.3333333333333333,
              "#9c179e"
             ],
             [
              0.4444444444444444,
              "#bd3786"
             ],
             [
              0.5555555555555556,
              "#d8576b"
             ],
             [
              0.6666666666666666,
              "#ed7953"
             ],
             [
              0.7777777777777778,
              "#fb9f3a"
             ],
             [
              0.8888888888888888,
              "#fdca26"
             ],
             [
              1,
              "#f0f921"
             ]
            ],
            "type": "contour"
           }
          ],
          "contourcarpet": [
           {
            "colorbar": {
             "outlinewidth": 0,
             "ticks": ""
            },
            "type": "contourcarpet"
           }
          ],
          "heatmap": [
           {
            "colorbar": {
             "outlinewidth": 0,
             "ticks": ""
            },
            "colorscale": [
             [
              0,
              "#0d0887"
             ],
             [
              0.1111111111111111,
              "#46039f"
             ],
             [
              0.2222222222222222,
              "#7201a8"
             ],
             [
              0.3333333333333333,
              "#9c179e"
             ],
             [
              0.4444444444444444,
              "#bd3786"
             ],
             [
              0.5555555555555556,
              "#d8576b"
             ],
             [
              0.6666666666666666,
              "#ed7953"
             ],
             [
              0.7777777777777778,
              "#fb9f3a"
             ],
             [
              0.8888888888888888,
              "#fdca26"
             ],
             [
              1,
              "#f0f921"
             ]
            ],
            "type": "heatmap"
           }
          ],
          "heatmapgl": [
           {
            "colorbar": {
             "outlinewidth": 0,
             "ticks": ""
            },
            "colorscale": [
             [
              0,
              "#0d0887"
             ],
             [
              0.1111111111111111,
              "#46039f"
             ],
             [
              0.2222222222222222,
              "#7201a8"
             ],
             [
              0.3333333333333333,
              "#9c179e"
             ],
             [
              0.4444444444444444,
              "#bd3786"
             ],
             [
              0.5555555555555556,
              "#d8576b"
             ],
             [
              0.6666666666666666,
              "#ed7953"
             ],
             [
              0.7777777777777778,
              "#fb9f3a"
             ],
             [
              0.8888888888888888,
              "#fdca26"
             ],
             [
              1,
              "#f0f921"
             ]
            ],
            "type": "heatmapgl"
           }
          ],
          "histogram": [
           {
            "marker": {
             "pattern": {
              "fillmode": "overlay",
              "size": 10,
              "solidity": 0.2
             }
            },
            "type": "histogram"
           }
          ],
          "histogram2d": [
           {
            "colorbar": {
             "outlinewidth": 0,
             "ticks": ""
            },
            "colorscale": [
             [
              0,
              "#0d0887"
             ],
             [
              0.1111111111111111,
              "#46039f"
             ],
             [
              0.2222222222222222,
              "#7201a8"
             ],
             [
              0.3333333333333333,
              "#9c179e"
             ],
             [
              0.4444444444444444,
              "#bd3786"
             ],
             [
              0.5555555555555556,
              "#d8576b"
             ],
             [
              0.6666666666666666,
              "#ed7953"
             ],
             [
              0.7777777777777778,
              "#fb9f3a"
             ],
             [
              0.8888888888888888,
              "#fdca26"
             ],
             [
              1,
              "#f0f921"
             ]
            ],
            "type": "histogram2d"
           }
          ],
          "histogram2dcontour": [
           {
            "colorbar": {
             "outlinewidth": 0,
             "ticks": ""
            },
            "colorscale": [
             [
              0,
              "#0d0887"
             ],
             [
              0.1111111111111111,
              "#46039f"
             ],
             [
              0.2222222222222222,
              "#7201a8"
             ],
             [
              0.3333333333333333,
              "#9c179e"
             ],
             [
              0.4444444444444444,
              "#bd3786"
             ],
             [
              0.5555555555555556,
              "#d8576b"
             ],
             [
              0.6666666666666666,
              "#ed7953"
             ],
             [
              0.7777777777777778,
              "#fb9f3a"
             ],
             [
              0.8888888888888888,
              "#fdca26"
             ],
             [
              1,
              "#f0f921"
             ]
            ],
            "type": "histogram2dcontour"
           }
          ],
          "mesh3d": [
           {
            "colorbar": {
             "outlinewidth": 0,
             "ticks": ""
            },
            "type": "mesh3d"
           }
          ],
          "parcoords": [
           {
            "line": {
             "colorbar": {
              "outlinewidth": 0,
              "ticks": ""
             }
            },
            "type": "parcoords"
           }
          ],
          "pie": [
           {
            "automargin": true,
            "type": "pie"
           }
          ],
          "scatter": [
           {
            "fillpattern": {
             "fillmode": "overlay",
             "size": 10,
             "solidity": 0.2
            },
            "type": "scatter"
           }
          ],
          "scatter3d": [
           {
            "line": {
             "colorbar": {
              "outlinewidth": 0,
              "ticks": ""
             }
            },
            "marker": {
             "colorbar": {
              "outlinewidth": 0,
              "ticks": ""
             }
            },
            "type": "scatter3d"
           }
          ],
          "scattercarpet": [
           {
            "marker": {
             "colorbar": {
              "outlinewidth": 0,
              "ticks": ""
             }
            },
            "type": "scattercarpet"
           }
          ],
          "scattergeo": [
           {
            "marker": {
             "colorbar": {
              "outlinewidth": 0,
              "ticks": ""
             }
            },
            "type": "scattergeo"
           }
          ],
          "scattergl": [
           {
            "marker": {
             "colorbar": {
              "outlinewidth": 0,
              "ticks": ""
             }
            },
            "type": "scattergl"
           }
          ],
          "scattermapbox": [
           {
            "marker": {
             "colorbar": {
              "outlinewidth": 0,
              "ticks": ""
             }
            },
            "type": "scattermapbox"
           }
          ],
          "scatterpolar": [
           {
            "marker": {
             "colorbar": {
              "outlinewidth": 0,
              "ticks": ""
             }
            },
            "type": "scatterpolar"
           }
          ],
          "scatterpolargl": [
           {
            "marker": {
             "colorbar": {
              "outlinewidth": 0,
              "ticks": ""
             }
            },
            "type": "scatterpolargl"
           }
          ],
          "scatterternary": [
           {
            "marker": {
             "colorbar": {
              "outlinewidth": 0,
              "ticks": ""
             }
            },
            "type": "scatterternary"
           }
          ],
          "surface": [
           {
            "colorbar": {
             "outlinewidth": 0,
             "ticks": ""
            },
            "colorscale": [
             [
              0,
              "#0d0887"
             ],
             [
              0.1111111111111111,
              "#46039f"
             ],
             [
              0.2222222222222222,
              "#7201a8"
             ],
             [
              0.3333333333333333,
              "#9c179e"
             ],
             [
              0.4444444444444444,
              "#bd3786"
             ],
             [
              0.5555555555555556,
              "#d8576b"
             ],
             [
              0.6666666666666666,
              "#ed7953"
             ],
             [
              0.7777777777777778,
              "#fb9f3a"
             ],
             [
              0.8888888888888888,
              "#fdca26"
             ],
             [
              1,
              "#f0f921"
             ]
            ],
            "type": "surface"
           }
          ],
          "table": [
           {
            "cells": {
             "fill": {
              "color": "#EBF0F8"
             },
             "line": {
              "color": "white"
             }
            },
            "header": {
             "fill": {
              "color": "#C8D4E3"
             },
             "line": {
              "color": "white"
             }
            },
            "type": "table"
           }
          ]
         },
         "layout": {
          "annotationdefaults": {
           "arrowcolor": "#2a3f5f",
           "arrowhead": 0,
           "arrowwidth": 1
          },
          "autotypenumbers": "strict",
          "coloraxis": {
           "colorbar": {
            "outlinewidth": 0,
            "ticks": ""
           }
          },
          "colorscale": {
           "diverging": [
            [
             0,
             "#8e0152"
            ],
            [
             0.1,
             "#c51b7d"
            ],
            [
             0.2,
             "#de77ae"
            ],
            [
             0.3,
             "#f1b6da"
            ],
            [
             0.4,
             "#fde0ef"
            ],
            [
             0.5,
             "#f7f7f7"
            ],
            [
             0.6,
             "#e6f5d0"
            ],
            [
             0.7,
             "#b8e186"
            ],
            [
             0.8,
             "#7fbc41"
            ],
            [
             0.9,
             "#4d9221"
            ],
            [
             1,
             "#276419"
            ]
           ],
           "sequential": [
            [
             0,
             "#0d0887"
            ],
            [
             0.1111111111111111,
             "#46039f"
            ],
            [
             0.2222222222222222,
             "#7201a8"
            ],
            [
             0.3333333333333333,
             "#9c179e"
            ],
            [
             0.4444444444444444,
             "#bd3786"
            ],
            [
             0.5555555555555556,
             "#d8576b"
            ],
            [
             0.6666666666666666,
             "#ed7953"
            ],
            [
             0.7777777777777778,
             "#fb9f3a"
            ],
            [
             0.8888888888888888,
             "#fdca26"
            ],
            [
             1,
             "#f0f921"
            ]
           ],
           "sequentialminus": [
            [
             0,
             "#0d0887"
            ],
            [
             0.1111111111111111,
             "#46039f"
            ],
            [
             0.2222222222222222,
             "#7201a8"
            ],
            [
             0.3333333333333333,
             "#9c179e"
            ],
            [
             0.4444444444444444,
             "#bd3786"
            ],
            [
             0.5555555555555556,
             "#d8576b"
            ],
            [
             0.6666666666666666,
             "#ed7953"
            ],
            [
             0.7777777777777778,
             "#fb9f3a"
            ],
            [
             0.8888888888888888,
             "#fdca26"
            ],
            [
             1,
             "#f0f921"
            ]
           ]
          },
          "colorway": [
           "#636efa",
           "#EF553B",
           "#00cc96",
           "#ab63fa",
           "#FFA15A",
           "#19d3f3",
           "#FF6692",
           "#B6E880",
           "#FF97FF",
           "#FECB52"
          ],
          "font": {
           "color": "#2a3f5f"
          },
          "geo": {
           "bgcolor": "white",
           "lakecolor": "white",
           "landcolor": "#E5ECF6",
           "showlakes": true,
           "showland": true,
           "subunitcolor": "white"
          },
          "hoverlabel": {
           "align": "left"
          },
          "hovermode": "closest",
          "mapbox": {
           "style": "light"
          },
          "paper_bgcolor": "white",
          "plot_bgcolor": "#E5ECF6",
          "polar": {
           "angularaxis": {
            "gridcolor": "white",
            "linecolor": "white",
            "ticks": ""
           },
           "bgcolor": "#E5ECF6",
           "radialaxis": {
            "gridcolor": "white",
            "linecolor": "white",
            "ticks": ""
           }
          },
          "scene": {
           "xaxis": {
            "backgroundcolor": "#E5ECF6",
            "gridcolor": "white",
            "gridwidth": 2,
            "linecolor": "white",
            "showbackground": true,
            "ticks": "",
            "zerolinecolor": "white"
           },
           "yaxis": {
            "backgroundcolor": "#E5ECF6",
            "gridcolor": "white",
            "gridwidth": 2,
            "linecolor": "white",
            "showbackground": true,
            "ticks": "",
            "zerolinecolor": "white"
           },
           "zaxis": {
            "backgroundcolor": "#E5ECF6",
            "gridcolor": "white",
            "gridwidth": 2,
            "linecolor": "white",
            "showbackground": true,
            "ticks": "",
            "zerolinecolor": "white"
           }
          },
          "shapedefaults": {
           "line": {
            "color": "#2a3f5f"
           }
          },
          "ternary": {
           "aaxis": {
            "gridcolor": "white",
            "linecolor": "white",
            "ticks": ""
           },
           "baxis": {
            "gridcolor": "white",
            "linecolor": "white",
            "ticks": ""
           },
           "bgcolor": "#E5ECF6",
           "caxis": {
            "gridcolor": "white",
            "linecolor": "white",
            "ticks": ""
           }
          },
          "title": {
           "x": 0.05
          },
          "xaxis": {
           "automargin": true,
           "gridcolor": "white",
           "linecolor": "white",
           "ticks": "",
           "title": {
            "standoff": 15
           },
           "zerolinecolor": "white",
           "zerolinewidth": 2
          },
          "yaxis": {
           "automargin": true,
           "gridcolor": "white",
           "linecolor": "white",
           "ticks": "",
           "title": {
            "standoff": 15
           },
           "zerolinecolor": "white",
           "zerolinewidth": 2
          }
         }
        },
        "title": {
         "text": "Air Quality Indicators by City"
        },
        "updatemenus": [
         {
          "buttons": [
           {
            "args": [
             {
              "y": [
               [
                2,
                2,
                2,
                3,
                1,
                2,
                2,
                1,
                1,
                2,
                2,
                2,
                2,
                2,
                1,
                2,
                2,
                2,
                3,
                2,
                1,
                2,
                2,
                2,
                1,
                1,
                2,
                3,
                2,
                2,
                2,
                2,
                3,
                2,
                2,
                1,
                2,
                4,
                2,
                1,
                1,
                2,
                2,
                1,
                1,
                3,
                1
               ]
              ]
             },
             {
              "title": "AQI by City"
             }
            ],
            "label": "AQI",
            "method": "update"
           },
           {
            "args": [
             {
              "y": [
               [
                230.31,
                236.99,
                223.64,
                181.91,
                267.03,
                175.24,
                297.07,
                287.06,
                347.14,
                270.37,
                171.9,
                185.25,
                240.33,
                223.64,
                303.75,
                247,
                353.81,
                198.6,
                240.33,
                216.96,
                230.31,
                230.31,
                200.27,
                243.66,
                257.02,
                213.62,
                213.62,
                614.17,
                223.64,
                243.66,
                220.3,
                226.97,
                213.62,
                250.34,
                205.28,
                313.76,
                183.58,
                253.68,
                216.96,
                233.65,
                273.71,
                220.3,
                243.66,
                363.83,
                303.75,
                634.19,
                243.66
               ]
              ]
             },
             {
              "title": "CO by City"
             }
            ],
            "label": "CO",
            "method": "update"
           },
           {
            "args": [
             {
              "y": [
               [
                2.47,
                1.55,
                0.34,
                0.67,
                1.85,
                0,
                1.66,
                1.71,
                2.47,
                1.68,
                0.41,
                0.25,
                1.09,
                0.22,
                1.38,
                1.54,
                1.77,
                0,
                0.47,
                0.29,
                0.28,
                0.38,
                0.14,
                0.5,
                1.01,
                0,
                0.87,
                3.23,
                0.34,
                0.5,
                1.16,
                1.36,
                0.87,
                1.25,
                0.11,
                0.98,
                0.78,
                0.44,
                0.34,
                0.9,
                2.91,
                0.63,
                0.5,
                2.25,
                0.94,
                5.19,
                0.44
               ]
              ]
             },
             {
              "title": "NH3 by City"
             }
            ],
            "label": "NH3",
            "method": "update"
           },
           {
            "args": [
             {
              "y": [
               [
                4.07,
                7.88,
                4.97,
                0.33,
                8.91,
                0.47,
                18.17,
                18.68,
                20.05,
                13.88,
                0.41,
                0.61,
                3.64,
                3.51,
                20.91,
                8.05,
                23.65,
                1.65,
                5.27,
                2.51,
                4.93,
                6.08,
                1.69,
                7.97,
                11.82,
                0.26,
                9.94,
                81.57,
                1.13,
                7.97,
                1.91,
                1.91,
                8.48,
                7.28,
                1.25,
                17.65,
                1.39,
                3,
                1.44,
                2.87,
                13.88,
                1.69,
                7.97,
                23.31,
                20.22,
                74.03,
                2.42
               ]
              ]
             },
             {
              "title": "NO2 by City"
             }
            ],
            "label": "NO2",
            "method": "update"
           },
           {
            "args": [
             {
              "y": [
               [
                80.82,
                75.82,
                82.25,
                101.57,
                53.64,
                98.71,
                67.23,
                35.76,
                32.9,
                70.1,
                94.41,
                72.24,
                80.82,
                62.94,
                55.79,
                74.39,
                67.23,
                77.25,
                108.72,
                70.81,
                56.51,
                62.94,
                95.84,
                62.23,
                58.65,
                36.48,
                80.82,
                2.62,
                98.71,
                62.23,
                71.53,
                91.55,
                101.57,
                94.41,
                83.69,
                38.62,
                94.41,
                175.95,
                65.8,
                57.22,
                50.78,
                80.82,
                62.23,
                27.9,
                33.98,
                0.11,
                45.42
               ]
              ]
             },
             {
              "title": "O3 by City"
             }
            ],
            "label": "O3",
            "method": "update"
           },
           {
            "args": [
             {
              "y": [
               [
                2.16,
                9.86,
                3.33,
                12.98,
                3.39,
                19.24,
                4.23,
                4.24,
                3.66,
                3.4,
                10.24,
                2.81,
                5.82,
                0.8,
                4.8,
                2.28,
                8.99,
                13.3,
                12.15,
                0.57,
                0.91,
                1.25,
                0.57,
                1.53,
                2.1,
                1.08,
                12.88,
                23.39,
                4.17,
                1.53,
                1.39,
                3.91,
                16.77,
                5.42,
                2.89,
                4.65,
                12.82,
                36.71,
                0.67,
                0.72,
                3.68,
                0.82,
                1.53,
                6.11,
                3.42,
                15.7,
                4.04
               ]
              ]
             },
             {
              "title": "PM10 by City"
             }
            ],
            "label": "PM10",
            "method": "update"
           },
           {
            "args": [
             {
              "y": [
               [
                1.33,
                7.52,
                1.63,
                7.91,
                2.77,
                17.2,
                3.22,
                2.94,
                2.85,
                2.6,
                4.2,
                2.36,
                5.05,
                0.5,
                4.05,
                1.68,
                8.38,
                11.03,
                8.14,
                0.5,
                0.5,
                0.5,
                0.5,
                0.69,
                1.07,
                0.5,
                9.45,
                12.16,
                2.09,
                0.69,
                1.26,
                3.41,
                5.52,
                4.39,
                1.39,
                2.23,
                6.54,
                28.12,
                0.5,
                0.5,
                2.75,
                0.5,
                0.69,
                1.21,
                2.27,
                10.85,
                3.81
               ]
              ]
             },
             {
              "title": "PM2.5 by City"
             }
            ],
            "label": "PM2.5",
            "method": "update"
           },
           {
            "args": [
             {
              "y": [
               [
                1.01,
                4.47,
                1.4,
                1.39,
                0.45,
                2.68,
                1.97,
                0.33,
                0.23,
                2.68,
                0.34,
                0.13,
                3.16,
                1.83,
                6.97,
                0.51,
                5.72,
                2.21,
                2.21,
                0.07,
                0.04,
                0.45,
                0.12,
                0.44,
                1.04,
                0.18,
                34.81,
                3.7,
                0.62,
                0.44,
                0.39,
                0.6,
                1.37,
                3.07,
                0.48,
                0.24,
                0.83,
                3.16,
                0.44,
                0.21,
                0.62,
                0.29,
                0.44,
                3.58,
                0.24,
                3.67,
                0.47
               ]
              ]
             },
             {
              "title": "SO2 by City"
             }
            ],
            "label": "SO2",
            "method": "update"
           }
          ],
          "direction": "down",
          "showactive": true
         }
        ],
        "xaxis": {
         "anchor": "y",
         "domain": [
          0,
          1
         ],
         "title": {
          "text": "City"
         }
        },
        "yaxis": {
         "anchor": "x",
         "domain": [
          0,
          1
         ],
         "title": {
          "text": "AQI"
         }
        }
       }
      }
     },
     "metadata": {},
     "output_type": "display_data"
    }
   ],
   "source": [
    "import plotly.express as px\n",
    "import pandas as pd\n",
    "\n",
    "# Define a list of available pollution indicators\n",
    "pollution_indicators = ['AQI', 'CO', 'NH3', 'NO2', 'O3', 'PM10', 'PM2.5', 'SO2']\n",
    "\n",
    "# Create the initial figure (using AQI by default)\n",
    "fig = px.bar(map_data, x='City', y='AQI', title=\"Air Quality Indicators by City\")\n",
    "\n",
    "# Update the layout to include a dropdown\n",
    "fig.update_layout(\n",
    "    updatemenus=[\n",
    "        {\n",
    "            'buttons': [\n",
    "                {'method': 'update', 'label': indicator, 'args': [{'y': [map_data[indicator]]}, {'title': f\"{indicator} by City\"}]} \n",
    "                for indicator in pollution_indicators\n",
    "            ],\n",
    "            'direction': 'down',\n",
    "            'showactive': True,\n",
    "        }\n",
    "    ]\n",
    ")\n",
    "\n",
    "# Show the figure\n",
    "fig.show()\n"
   ]
  }
 ],
 "metadata": {
  "kernelspec": {
   "display_name": "base",
   "language": "python",
   "name": "python3"
  },
  "language_info": {
   "codemirror_mode": {
    "name": "ipython",
    "version": 3
   },
   "file_extension": ".py",
   "mimetype": "text/x-python",
   "name": "python",
   "nbconvert_exporter": "python",
   "pygments_lexer": "ipython3",
   "version": "3.11.7"
  }
 },
 "nbformat": 4,
 "nbformat_minor": 2
}
