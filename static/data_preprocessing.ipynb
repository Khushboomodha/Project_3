{
 "cells": [
  {
   "cell_type": "code",
   "execution_count": 1,
   "metadata": {},
   "outputs": [],
   "source": [
    "# Importing libraries\n",
    "import pandas as pd\n",
    "from pathlib import Path\n",
    "import csv\n",
    "from config import api_key\n",
    "import requests\n",
    "from pprint import pprint\n",
    "import random"
   ]
  },
  {
   "cell_type": "code",
   "execution_count": 2,
   "metadata": {},
   "outputs": [
    {
     "data": {
      "text/html": [
       "<div>\n",
       "<style scoped>\n",
       "    .dataframe tbody tr th:only-of-type {\n",
       "        vertical-align: middle;\n",
       "    }\n",
       "\n",
       "    .dataframe tbody tr th {\n",
       "        vertical-align: top;\n",
       "    }\n",
       "\n",
       "    .dataframe thead th {\n",
       "        text-align: right;\n",
       "    }\n",
       "</style>\n",
       "<table border=\"1\" class=\"dataframe\">\n",
       "  <thead>\n",
       "    <tr style=\"text-align: right;\">\n",
       "      <th></th>\n",
       "      <th>Country</th>\n",
       "      <th>City</th>\n",
       "      <th>AQI Value</th>\n",
       "      <th>AQI Category</th>\n",
       "      <th>CO AQI Value</th>\n",
       "      <th>CO AQI Category</th>\n",
       "      <th>Ozone AQI Value</th>\n",
       "      <th>Ozone AQI Category</th>\n",
       "      <th>NO2 AQI Value</th>\n",
       "      <th>NO2 AQI Category</th>\n",
       "      <th>PM2.5 AQI Value</th>\n",
       "      <th>PM2.5 AQI Category</th>\n",
       "    </tr>\n",
       "  </thead>\n",
       "  <tbody>\n",
       "    <tr>\n",
       "      <th>0</th>\n",
       "      <td>Russian Federation</td>\n",
       "      <td>Praskoveya</td>\n",
       "      <td>51</td>\n",
       "      <td>Moderate</td>\n",
       "      <td>1</td>\n",
       "      <td>Good</td>\n",
       "      <td>36</td>\n",
       "      <td>Good</td>\n",
       "      <td>0</td>\n",
       "      <td>Good</td>\n",
       "      <td>51</td>\n",
       "      <td>Moderate</td>\n",
       "    </tr>\n",
       "    <tr>\n",
       "      <th>1</th>\n",
       "      <td>Brazil</td>\n",
       "      <td>Presidente Dutra</td>\n",
       "      <td>41</td>\n",
       "      <td>Good</td>\n",
       "      <td>1</td>\n",
       "      <td>Good</td>\n",
       "      <td>5</td>\n",
       "      <td>Good</td>\n",
       "      <td>1</td>\n",
       "      <td>Good</td>\n",
       "      <td>41</td>\n",
       "      <td>Good</td>\n",
       "    </tr>\n",
       "    <tr>\n",
       "      <th>2</th>\n",
       "      <td>Italy</td>\n",
       "      <td>Priolo Gargallo</td>\n",
       "      <td>66</td>\n",
       "      <td>Moderate</td>\n",
       "      <td>1</td>\n",
       "      <td>Good</td>\n",
       "      <td>39</td>\n",
       "      <td>Good</td>\n",
       "      <td>2</td>\n",
       "      <td>Good</td>\n",
       "      <td>66</td>\n",
       "      <td>Moderate</td>\n",
       "    </tr>\n",
       "    <tr>\n",
       "      <th>3</th>\n",
       "      <td>Poland</td>\n",
       "      <td>Przasnysz</td>\n",
       "      <td>34</td>\n",
       "      <td>Good</td>\n",
       "      <td>1</td>\n",
       "      <td>Good</td>\n",
       "      <td>34</td>\n",
       "      <td>Good</td>\n",
       "      <td>0</td>\n",
       "      <td>Good</td>\n",
       "      <td>20</td>\n",
       "      <td>Good</td>\n",
       "    </tr>\n",
       "    <tr>\n",
       "      <th>4</th>\n",
       "      <td>France</td>\n",
       "      <td>Punaauia</td>\n",
       "      <td>22</td>\n",
       "      <td>Good</td>\n",
       "      <td>0</td>\n",
       "      <td>Good</td>\n",
       "      <td>22</td>\n",
       "      <td>Good</td>\n",
       "      <td>0</td>\n",
       "      <td>Good</td>\n",
       "      <td>6</td>\n",
       "      <td>Good</td>\n",
       "    </tr>\n",
       "  </tbody>\n",
       "</table>\n",
       "</div>"
      ],
      "text/plain": [
       "              Country              City  AQI Value AQI Category  CO AQI Value  \\\n",
       "0  Russian Federation        Praskoveya         51     Moderate             1   \n",
       "1              Brazil  Presidente Dutra         41         Good             1   \n",
       "2               Italy   Priolo Gargallo         66     Moderate             1   \n",
       "3              Poland         Przasnysz         34         Good             1   \n",
       "4              France          Punaauia         22         Good             0   \n",
       "\n",
       "  CO AQI Category  Ozone AQI Value Ozone AQI Category  NO2 AQI Value  \\\n",
       "0            Good               36               Good              0   \n",
       "1            Good                5               Good              1   \n",
       "2            Good               39               Good              2   \n",
       "3            Good               34               Good              0   \n",
       "4            Good               22               Good              0   \n",
       "\n",
       "  NO2 AQI Category  PM2.5 AQI Value PM2.5 AQI Category  \n",
       "0             Good               51           Moderate  \n",
       "1             Good               41               Good  \n",
       "2             Good               66           Moderate  \n",
       "3             Good               20               Good  \n",
       "4             Good                6               Good  "
      ]
     },
     "execution_count": 2,
     "metadata": {},
     "output_type": "execute_result"
    }
   ],
   "source": [
    "csv_path = Path(\"../Resources/global air pollution dataset.csv\")\n",
    "global_df = pd.read_csv(csv_path)\n",
    "global_df.head()"
   ]
  },
  {
   "cell_type": "code",
   "execution_count": 3,
   "metadata": {},
   "outputs": [
    {
     "data": {
      "text/plain": [
       "Index(['Country', 'City', 'AQI Value', 'AQI Category', 'CO AQI Value',\n",
       "       'CO AQI Category', 'Ozone AQI Value', 'Ozone AQI Category',\n",
       "       'NO2 AQI Value', 'NO2 AQI Category', 'PM2.5 AQI Value',\n",
       "       'PM2.5 AQI Category'],\n",
       "      dtype='object')"
      ]
     },
     "execution_count": 3,
     "metadata": {},
     "output_type": "execute_result"
    }
   ],
   "source": [
    "global_df.columns"
   ]
  },
  {
   "cell_type": "code",
   "execution_count": 4,
   "metadata": {},
   "outputs": [
    {
     "data": {
      "text/plain": [
       "Country               3601\n",
       "City                  3601\n",
       "AQI Value             3601\n",
       "AQI Category          3601\n",
       "CO AQI Value          3601\n",
       "CO AQI Category       3601\n",
       "Ozone AQI Value       3601\n",
       "Ozone AQI Category    3601\n",
       "NO2 AQI Value         3601\n",
       "NO2 AQI Category      3601\n",
       "PM2.5 AQI Value       3601\n",
       "PM2.5 AQI Category    3601\n",
       "dtype: int64"
      ]
     },
     "execution_count": 4,
     "metadata": {},
     "output_type": "execute_result"
    }
   ],
   "source": [
    "NorthAmerica_df = global_df.loc[global_df['Country'].isin(['United States of America', 'Canada', 'Mexico'])]\n",
    "NorthAmerica_df.head()\n",
    "NorthAmerica_df.count()"
   ]
  },
  {
   "cell_type": "code",
   "execution_count": 5,
   "metadata": {},
   "outputs": [],
   "source": [
    "unique_cities = NorthAmerica_df[['Country', 'City']].drop_duplicates().reset_index(drop=True)\n",
    "cities_list = unique_cities['City']\n",
    "cities_list.to_csv('../Resources/cities_list.csv')\n",
    "unique_cities.to_csv('../Resources/citiesandcountry_list.csv')\n",
    "\n",
    "# Making a list of cities. This is the entire list of 3601 countries \n",
    "list_cities = cities_list.to_list()\n",
    "\n",
    "# Randomized list of 500 cities. This is probably better for plotting and to avoid hitting API limit\n",
    "random_cities = random.sample(list_cities,50) # change to 500 or any number you want\n",
    "\n",
    "# Shortened list of cities. Use this for testing code to avoid hitting API limit\n",
    "short_cities = cities_list.head(3).tolist()\n"
   ]
  },
  {
   "cell_type": "code",
   "execution_count": 6,
   "metadata": {},
   "outputs": [
    {
     "data": {
      "text/plain": [
       "['Chalmette',\n",
       " 'Woburn',\n",
       " 'Pinole',\n",
       " 'Lansdowne',\n",
       " 'Fullerton',\n",
       " 'Rossmoor',\n",
       " 'Tenango De Rio Blanco',\n",
       " 'Campbell River',\n",
       " 'Rancho Cordova',\n",
       " 'Melrose Park',\n",
       " 'Oak Forest',\n",
       " 'Hewitt',\n",
       " 'Belmont',\n",
       " 'Sugar Hill',\n",
       " 'San Marcos',\n",
       " 'Cape Girardeau',\n",
       " 'Merritt Island',\n",
       " 'San Juan De La Vega',\n",
       " 'Clearfield',\n",
       " 'Babylon',\n",
       " 'Sikeston',\n",
       " 'Tlacolula',\n",
       " 'La Vista',\n",
       " 'Tulancingo',\n",
       " 'Maplewood',\n",
       " 'Holden',\n",
       " 'Acala',\n",
       " 'Orangevale',\n",
       " 'Bostonia',\n",
       " 'Easley',\n",
       " 'Lake Charles',\n",
       " 'Shakopee',\n",
       " 'Jeffersonville',\n",
       " 'Tacoma',\n",
       " 'Dudley',\n",
       " 'Berriozabal',\n",
       " 'Parkersburg',\n",
       " 'Mitchell',\n",
       " 'Leominster',\n",
       " 'Port Saint John',\n",
       " 'Hamilton',\n",
       " 'Tumwater',\n",
       " 'Springfield',\n",
       " 'Palenque',\n",
       " 'Orange',\n",
       " 'Newburg',\n",
       " 'Galveston',\n",
       " 'Laconia',\n",
       " 'Vincennes',\n",
       " 'Acayucan']"
      ]
     },
     "execution_count": 6,
     "metadata": {},
     "output_type": "execute_result"
    }
   ],
   "source": [
    "random_cities"
   ]
  },
  {
   "cell_type": "code",
   "execution_count": 7,
   "metadata": {},
   "outputs": [
    {
     "name": "stdout",
     "output_type": "stream",
     "text": [
      "city not found or 'coord'\n"
     ]
    }
   ],
   "source": [
    "# Acessing the open weather API to get lattitude and longitude values\n",
    "\n",
    "url = \"http://api.openweathermap.org/data/2.5/weather?\"\n",
    "units = \"metric\"\n",
    "\n",
    "# Build partial query URL\n",
    "query_url = f\"{url}appid={api_key}&units={units}&q=\"\n",
    "\n",
    "# Making API calls\n",
    "lat = []\n",
    "lon = []\n",
    "\n",
    "# loop through list of cities\n",
    "for city in random_cities:\n",
    "    #print (city)\n",
    "    \n",
    "    response = requests.get(query_url + city).json()\n",
    "    try:\n",
    "        #print (response)\n",
    "        lat.append(response['coord']['lat'])\n",
    "        lon.append(response['coord']['lon'])\n",
    "    except Exception as e:\n",
    "        print(f'city not found or {e}')\n",
    "        pass"
   ]
  },
  {
   "cell_type": "code",
   "execution_count": 8,
   "metadata": {},
   "outputs": [],
   "source": [
    "# Accessing the open weather API to get air pollution values\n",
    "\n",
    "air_url = 'http://api.openweathermap.org/data/2.5/air_pollution?' # current air pollution values\n",
    "\n",
    "coord = [] # latitude and longitude coordinates\n",
    "aqi = [] # air quality index\n",
    "co = [] # Concentration of CO (Carbon monoxide), μg/m3\n",
    "nh3 = [] # Concentration of NO (Nitrogen monoxide), μg/m3\n",
    "no = [] # Сoncentration of NO2 (Nitrogen dioxide), μg/m3\n",
    "no2 = [] # Сoncentration of O3 (Ozone), μg/m3\n",
    "o3 = [] # Сoncentration of SO2 (Sulphur dioxide), μg/m3\n",
    "pm10 = [] # Сoncentration of PM2.5 (Fine particles matter),\n",
    "pm2_5 = [] # Сoncentration of PM10 (Coarse particulate matter), μg/m3\n",
    "so2 = [] # Сoncentration of NH3 (Ammonia), μg/m3\n",
    "\n",
    "\n",
    "for lt,ln in zip(lat,lon):\n",
    "    response = requests.get(f'{air_url}lat={lt}&lon={ln}&appid={api_key}').json()\n",
    "    #pprint (response)\n",
    "    try:\n",
    "        coord.append(response['coord'])\n",
    "        aqi.append(response['list'][0]['main']['aqi'])\n",
    "        co.append(response['list'][0]['components']['co'])\n",
    "        nh3.append(response['list'][0]['components']['nh3'])\n",
    "        no.append(response['list'][0]['components']['no'])\n",
    "        no2.append(response['list'][0]['components']['no2'])\n",
    "        o3.append(response['list'][0]['components']['o3'])\n",
    "        pm10.append(response['list'][0]['components']['pm10'])\n",
    "        pm2_5.append(response['list'][0]['components']['pm2_5'])\n",
    "        so2.append(response['list'][0]['components']['so2'])\n",
    "    except Exception as e:\n",
    "        print (f'failed to get values for lat:{lt} and lon:{ln}. Error is: {e}')"
   ]
  }
 ],
 "metadata": {
  "kernelspec": {
   "display_name": "base",
   "language": "python",
   "name": "python3"
  },
  "language_info": {
   "codemirror_mode": {
    "name": "ipython",
    "version": 3
   },
   "file_extension": ".py",
   "mimetype": "text/x-python",
   "name": "python",
   "nbconvert_exporter": "python",
   "pygments_lexer": "ipython3",
   "version": "3.11.7"
  }
 },
 "nbformat": 4,
 "nbformat_minor": 2
}
